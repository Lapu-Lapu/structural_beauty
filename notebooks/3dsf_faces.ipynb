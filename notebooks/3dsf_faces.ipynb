{
 "cells": [
  {
   "cell_type": "code",
   "execution_count": null,
   "id": "a4db25b7",
   "metadata": {},
   "outputs": [],
   "source": [
    "import pandas as pd\n",
    "import numpy as np\n",
    "import matplotlib.pyplot as plt\n",
    "import matplotlib.image as mimg\n",
    "from glob import glob\n",
    "\n",
    "import mediapipe as mp\n",
    "mp_face_mesh = mp.solutions.face_mesh\n",
    "import cv2"
   ]
  },
  {
   "cell_type": "code",
   "execution_count": null,
   "id": "8821b19a",
   "metadata": {},
   "outputs": [],
   "source": [
    "def get_fn(face):\n",
    "    return glob(f\"CFD Version 3.0/Images/CFD/{face}/*\")[0]\n",
    "    \n",
    "def get_img(face):\n",
    "    return cv2.imread(get_fn(face))[:, :, ::-1]\n",
    "    #return  mimg.imread(get_fn(face))\n",
    "\n",
    "def plot_img(ax, img):\n",
    "    ax.imshow(img)\n",
    "    ax.get_xaxis().set_visible(False)\n",
    "    ax.get_yaxis().set_visible(False)\n",
    "    return ax\n",
    "\n",
    "def plot(ax, df, x, y, i, group='GenderSelf', vlines=[0.36, 1.5, 5.5, 'r']):\n",
    "    if not group:\n",
    "        ax.plot(x, y, '.')\n",
    "    else:\n",
    "        group_dict = df.groupby(group).groups\n",
    "        for label, idx in group_dict.items():\n",
    "            ax.plot(x[idx], y[idx], '.', label=label)\n",
    "    ax.plot(x[i], y[i], 'k*', ms=10)\n",
    "    ax.vlines(*vlines)\n",
    "    ax.legend()\n",
    "    ax.set_ylabel('Attractive')\n",
    "    ax.set_xlabel('length ratio')\n",
    "    ax.grid()\n",
    "    return ax\n",
    "\n",
    "# def to_array(p):\n",
    "#     return np.array([p.x, p.y, p.z])"
   ]
  },
  {
   "cell_type": "code",
   "execution_count": null,
   "id": "d57135c8",
   "metadata": {},
   "outputs": [],
   "source": [
    "def draw(image, results):\n",
    "    annotated_image = image.copy()\n",
    "    for face_landmarks in results.multi_face_landmarks:\n",
    "        #print('face_landmarks:', face_landmarks)\n",
    "        mp_drawing.draw_landmarks(\n",
    "          image=annotated_image,\n",
    "          landmark_list=face_landmarks,\n",
    "          connections=mp_face_mesh.FACEMESH_TESSELATION,\n",
    "          landmark_drawing_spec=None,\n",
    "          connection_drawing_spec=mp_drawing_styles\n",
    "          .get_default_face_mesh_tesselation_style())\n",
    "        mp_drawing.draw_landmarks(\n",
    "          image=annotated_image,\n",
    "          landmark_list=face_landmarks,\n",
    "          connections=mp_face_mesh.FACEMESH_CONTOURS,\n",
    "          landmark_drawing_spec=None,\n",
    "          connection_drawing_spec=mp_drawing_styles\n",
    "          .get_default_face_mesh_contours_style())\n",
    "        mp_drawing.draw_landmarks(\n",
    "          image=annotated_image,\n",
    "          landmark_list=face_landmarks,\n",
    "          connections=mp_face_mesh.FACEMESH_IRISES,\n",
    "          landmark_drawing_spec=None,\n",
    "          connection_drawing_spec=mp_drawing_styles\n",
    "          .get_default_face_mesh_iris_connections_style())\n",
    "    return annotated_image\n",
    "\n",
    "# def mean(points):\n",
    "#     return np.mean(np.array([to_array(p) for p in points]), axis=0)\n",
    "\n",
    "# def get_points(results):\n",
    "#     landmarks = results.multi_face_landmarks[0]\n",
    "#     p_lefteye = mean([landmarks.landmark[i] for i in left_eye])\n",
    "#     p_righteye = mean([landmarks.landmark[i] for i in right_eye])\n",
    "#     p_left = to_array(landmarks.landmark[356])\n",
    "#     p_right = to_array(landmarks.landmark[127])\n",
    "#     return p_lefteye, p_righteye, p_left, p_right\n",
    "\n",
    "# def compute_w_ratio(results):\n",
    "#     p_lefteye, p_righteye, p_left, p_right = get_points(results)\n",
    "#     return np.linalg.norm(p_lefteye - p_righteye) / np.linalg.norm(p_left - p_right)\n",
    "from utils import compute_w_ratio, get_points, mean\n",
    "\n",
    "def classify_lr(x, y):\n",
    "    if y < x.quantile(1/3):\n",
    "        return \"low\"\n",
    "    elif y > x.quantile(2/3):\n",
    "        return \"high\"\n",
    "    else:\n",
    "        return \"medium\""
   ]
  },
  {
   "cell_type": "code",
   "execution_count": null,
   "id": "80cd2668",
   "metadata": {},
   "outputs": [],
   "source": [
    "import cv2\n",
    "import mediapipe as mp\n",
    "mp_drawing = mp.solutions.drawing_utils\n",
    "mp_drawing_styles = mp.solutions.drawing_styles\n",
    "mp_face_mesh = mp.solutions.face_mesh\n",
    "\n",
    "left_eye = [i[1] for i in mp.solutions.face_mesh.FACEMESH_LEFT_EYE]\n",
    "right_eye = [i[0] for i in mp.solutions.face_mesh.FACEMESH_RIGHT_EYE]\n",
    "\n",
    "# def get_width_ratio(results):\n",
    "#     landmarks = results.multi_face_landmarks[0]\n",
    "#     x_left, y_left = mean([landmarks.landmark[i] for i in left_eye])\n",
    "#     x_right, y_right = mean([landmarks.landmark[i] for i in right_eye])\n",
    "#     p_left = landmarks.landmark[356]\n",
    "#     p_right = landmarks.landmark[127]\n",
    "#     return (x_left - x_right) / (p_left.x - p_right.x)"
   ]
  },
  {
   "cell_type": "code",
   "execution_count": null,
   "id": "b66c25dc",
   "metadata": {},
   "outputs": [],
   "source": [
    "fn_excel = \"CFD Version 3.0/CFD 3.0 Norming Data and Codebook.xlsx\"\n",
    "\n",
    "df = pd.read_excel(fn_excel, sheet_name='CFD U.S. Norming Data', header=7).loc[1:]\n",
    "df\n",
    "\n",
    "# summary = df.describe()\n",
    "# summary.loc[:, ~np.isnan(summary.loc['mean'])]"
   ]
  },
  {
   "cell_type": "code",
   "execution_count": null,
   "id": "3191121e",
   "metadata": {},
   "outputs": [],
   "source": [
    "y = df['Attractive']\n",
    "x = df['UpperFaceLength2'] / df['FaceLength']\n",
    "df['lr'] = x"
   ]
  },
  {
   "cell_type": "code",
   "execution_count": null,
   "id": "d51f024c",
   "metadata": {},
   "outputs": [],
   "source": [
    "df.EthnicitySelf.unique()"
   ]
  },
  {
   "cell_type": "code",
   "execution_count": null,
   "id": "c8824fd1",
   "metadata": {},
   "outputs": [],
   "source": [
    "x.quantile(q=1/3), x.quantile(q=2/3), x.quantile()\n",
    "y.mean()"
   ]
  },
  {
   "cell_type": "code",
   "execution_count": null,
   "id": "c4157363",
   "metadata": {},
   "outputs": [],
   "source": [
    "fig, ax = plt.subplots(1, 2)\n",
    "fig.set_size_inches(20, 7)\n",
    "\n",
    "i = np.random.randint(0, len(df))\n",
    "model = df.loc[i].Model\n",
    "img = get_img(model)\n",
    "plot(ax[0], df, x, y, i, group='EthnicitySelf')\n",
    "\n",
    "# ax[0].vlines(x.quantile(1/3), 1.5, 5.5, 'k')\n",
    "# ax[0].vlines(x.quantile(2/3), 1.5, 5.5, 'k')\n",
    "# ax[0].hlines(y.quantile(.25), 0.3, 0.45, 'k')\n",
    "# ax[0].hlines(y.quantile(.75), 0.3, 0.45, 'k')\n",
    "\n",
    "plot_img(ax[1], img)"
   ]
  },
  {
   "cell_type": "code",
   "execution_count": null,
   "id": "24d72800",
   "metadata": {
    "tags": []
   },
   "outputs": [],
   "source": [
    "# For static images:\n",
    "IMAGE_FILES = []\n",
    "IMAGE_FILES = [get_fn(model)]\n",
    "# IMAGE_FILES = df.Model.apply(get_fn)\n",
    "\n",
    "meshs = {}\n",
    "IMAGE_FILES = df.Model\n",
    "drawing_spec = mp_drawing.DrawingSpec(thickness=1, circle_radius=1)\n",
    "with mp_face_mesh.FaceMesh(\n",
    "    static_image_mode=True,\n",
    "    max_num_faces=1,\n",
    "    refine_landmarks=True,\n",
    "    min_detection_confidence=0.5) as face_mesh:\n",
    "      for idx, file in enumerate(IMAGE_FILES):\n",
    "            print(file, end='.')\n",
    "            fn = get_fn(file)\n",
    "            image = cv2.imread(fn)\n",
    "            # Convert the BGR image to RGB before processing.\n",
    "            results = face_mesh.process(cv2.cvtColor(image, cv2.COLOR_BGR2RGB))\n",
    "            meshs[file] = results\n",
    "\n",
    "            # Print and draw face mesh landmarks on the image.\n",
    "            if not results.multi_face_landmarks:\n",
    "                  continue\n",
    "\n",
    "            #annotated_image = draw(image, results)\n",
    "            #cv2.imwrite(f'annotated_image_{model}.png', annotated_image)\n",
    "            print(compute_w_ratio(results))\n",
    "            #print(get_width_ratio(results))"
   ]
  },
  {
   "cell_type": "code",
   "execution_count": null,
   "id": "9cf20945",
   "metadata": {
    "tags": []
   },
   "outputs": [],
   "source": [
    "i = np.random.randint(0, len(df))\n",
    "model = df.loc[i].Model\n",
    "results = meshs[model]\n",
    "compute_w_ratio(results)\n",
    "image = cv2.imread(get_fn(model))\n",
    "image = draw(image, results)\n",
    "\n",
    "w_ratio = compute_w_ratio(results)\n",
    "p_lefteye, p_righteye, p_left, p_right = get_points(results)\n",
    "\n",
    "height, width, channels = image.shape\n",
    "plt.title(w_ratio)\n",
    "plt.imshow(image[:, :, ::-1])\n",
    "plt.plot(p_lefteye[0]*width, p_lefteye[1]*height, 'x')\n",
    "plt.plot(p_righteye[0]*width, p_righteye[1]*height, 'x')\n",
    "plt.plot(p_left[0]*width, p_left[1]*height, 'x')\n",
    "plt.plot(p_right[0]*width, p_right[1]*height, 'x')"
   ]
  },
  {
   "cell_type": "code",
   "execution_count": null,
   "id": "c4b6a6f6",
   "metadata": {},
   "outputs": [],
   "source": [
    "# [meshs]\n",
    "wrs = [compute_w_ratio(results) for model, results in meshs.items()]\n",
    "df['wr'] = wrs"
   ]
  },
  {
   "cell_type": "code",
   "execution_count": null,
   "id": "d8cb6ba6",
   "metadata": {},
   "outputs": [],
   "source": [
    "df.wr.describe()"
   ]
  },
  {
   "cell_type": "code",
   "execution_count": null,
   "id": "689d7bbc",
   "metadata": {},
   "outputs": [],
   "source": [
    "fig, ax = plt.subplots(1, 2)\n",
    "fig.set_size_inches(20, 7)\n",
    "\n",
    "i = np.random.randint(0, len(df))\n",
    "model = df.loc[i].Model\n",
    "img = get_img(model)\n",
    "plot(ax[0], df, df.wr, y, i, group='GenderSelf', vlines=[0.46, 1.5, 5.5, 'r'])\n",
    "\n",
    "ax[1] = plot_img(ax[1], img)\n",
    "ax[0].set_xlabel('width ratio')"
   ]
  },
  {
   "cell_type": "code",
   "execution_count": null,
   "id": "c265ba41",
   "metadata": {},
   "outputs": [],
   "source": [
    "def create_classify_function(a, b):\n",
    "    def classify(v):\n",
    "        if v < a:\n",
    "            return \"low\"\n",
    "        elif v < b:\n",
    "            return \"medium\"\n",
    "        else:\n",
    "            return \"high\"\n",
    "    return classify"
   ]
  },
  {
   "cell_type": "code",
   "execution_count": null,
   "id": "3dcd8046",
   "metadata": {},
   "outputs": [],
   "source": [
    "df_male = df[df.GenderSelf == 'M']\n",
    "a, b = df_male.wr.quantile(1/3),  df_male.wr.quantile(2/3)\n",
    "classifier = create_classify_function(a, b)\n",
    "df_male['class'] = df_male.wr.apply(classifier)"
   ]
  },
  {
   "cell_type": "code",
   "execution_count": null,
   "id": "3ed95ca3-c367-4532-8e02-39a695af9c2c",
   "metadata": {},
   "outputs": [],
   "source": [
    "'class' in list(filter(lambda s: 'Unnamed' not in s, df.columns))"
   ]
  },
  {
   "cell_type": "code",
   "execution_count": null,
   "id": "06af3943-f4bc-4a90-a11a-fede0824dcaf",
   "metadata": {},
   "outputs": [],
   "source": [
    "# list(filter(lambda s: 'Unnamed' not in s, df.columns))\n",
    "df_male = df_male[list(filter(lambda s: 'Unnamed' not in s, df_male.columns))]\n",
    "\n",
    "ethn = [a + 'Prob' for a in ['Asian', 'Black', 'Latino', 'Multi', 'Other', 'White']]\n",
    "\n",
    "# df_male.index[i], i\n",
    "with pd.option_context('display.max_rows', None, 'display.max_columns', None):  # more options can be specified also\n",
    "    df_male_mean = df_male[ethn].mean()\n",
    "    print(df_male_mean)\n",
    "    \n",
    "df_male_mean.sum()\n",
    "df_male_mean"
   ]
  },
  {
   "cell_type": "code",
   "execution_count": null,
   "id": "91e53227-a915-4f2f-91b9-e19b6071a5c5",
   "metadata": {},
   "outputs": [],
   "source": [
    "from collections import Counter\n",
    "len(df_male), \n",
    "{k: v/len(df_male) for k, v in Counter(df_male.EthnicitySelf).items()}"
   ]
  },
  {
   "cell_type": "code",
   "execution_count": null,
   "id": "6af1d6f4-cbac-4b38-9555-b282a08ca67f",
   "metadata": {},
   "outputs": [],
   "source": [
    "with pd.option_context('display.max_rows', None, 'display.max_columns', None):\n",
    "    print(df_male.columns)"
   ]
  },
  {
   "cell_type": "code",
   "execution_count": null,
   "id": "1005c71b",
   "metadata": {},
   "outputs": [],
   "source": [
    "wr_group = df_male.groupby('class').groups\n",
    "# wr_grouped.groups['low']\n",
    "\n",
    "fig, ax = plt.subplots(1, 2)\n",
    "fig.set_size_inches(20, 7)\n",
    "\n",
    "i = np.random.randint(0, len(df_male))\n",
    "model = df.iloc[i].Model\n",
    "img = get_img(model)\n",
    "plot(ax[0], df_male, df_male.wr, y, df_male.index[i], group='class', vlines=[0.46, 1.5, 5.5, 'r'])\n",
    "\n",
    "ax[1] = plot_img(ax[1], img)\n",
    "ax[0].set_xlabel('width ratio')"
   ]
  },
  {
   "cell_type": "code",
   "execution_count": null,
   "id": "c4e52dfe",
   "metadata": {},
   "outputs": [],
   "source": [
    "def compute_face_average(faces, face_n=None, max_n=300):\n",
    "    print(len(faces))\n",
    "    if face_n:\n",
    "        faces = faces.iloc[np.random.choice(range(len(faces)), size=face_n, replace=False)]\n",
    "\n",
    "    for i, face in enumerate(faces):\n",
    "        if i == 0:\n",
    "            img = get_img(face) / 256\n",
    "        else:            \n",
    "            img += get_img(face) / 256\n",
    "        if i >= max_n:\n",
    "            break\n",
    "    return img / (i+1)\n",
    "\n",
    "# def show_face_average(faces, face_n=None, max_n=300):\n",
    "#     img = compute_face_average(faces, face_n=None, max_n=300)\n",
    "#     plt.imshow(img/(i+1))\n",
    "\n",
    "def to255(image):\n",
    "    return np.rint(image * 256).astype(np.uint8)"
   ]
  },
  {
   "cell_type": "code",
   "execution_count": null,
   "id": "18d58511",
   "metadata": {},
   "outputs": [],
   "source": [
    "wr_low = df_male.loc[wr_group[\"low\"]]\n",
    "avgimg_wr_low = compute_face_average(wr_low.Model)"
   ]
  },
  {
   "cell_type": "code",
   "execution_count": null,
   "id": "e6e069d3",
   "metadata": {},
   "outputs": [],
   "source": [
    "plt.title(f'wr low: {wr_low.wr.mean()}')\n",
    "plt.imshow(avgimg_wr_low)\n",
    "\n",
    "cv2.imwrite('base_faces/avgimg_wr_low.png', to255(avgimg_wr_low)[:, :, ::-1])"
   ]
  },
  {
   "cell_type": "code",
   "execution_count": null,
   "id": "5b8afad7",
   "metadata": {},
   "outputs": [],
   "source": [
    "wr_medium = df_male.loc[wr_group[\"medium\"]]\n",
    "avgimg_wr_medium = compute_face_average(wr_medium.Model)"
   ]
  },
  {
   "cell_type": "code",
   "execution_count": null,
   "id": "7a1bab43",
   "metadata": {},
   "outputs": [],
   "source": [
    "plt.title(f'wr medium: {wr_medium.wr.mean()}')\n",
    "plt.imshow(avgimg_wr_medium)\n",
    "cv2.imwrite('base_faces/avgimg_wr_medium.png', to255(avgimg_wr_medium)[:, :, ::-1])"
   ]
  },
  {
   "cell_type": "code",
   "execution_count": null,
   "id": "bda07bff",
   "metadata": {},
   "outputs": [],
   "source": [
    "wr_high = df_male.loc[wr_group[\"high\"]]\n",
    "avgimg_wr_high = compute_face_average(wr_high.Model)"
   ]
  },
  {
   "cell_type": "code",
   "execution_count": null,
   "id": "1944a8f7",
   "metadata": {},
   "outputs": [],
   "source": [
    "plt.title(f'wr medium: {wr_high.wr.mean()}')\n",
    "plt.imshow(avgimg_wr_high)\n",
    "cv2.imwrite('base_faces/avgimg_wr_high.png', to255(avgimg_wr_high)[:, :, ::-1])"
   ]
  },
  {
   "cell_type": "code",
   "execution_count": null,
   "id": "8df2c4b9",
   "metadata": {},
   "outputs": [],
   "source": [
    "with mp_face_mesh.FaceMesh(\n",
    "                                static_image_mode=True,\n",
    "                                max_num_faces=1,\n",
    "                                refine_landmarks=True,\n",
    "                                min_detection_confidence=0.5) as face_mesh:\n",
    "    print(file, end='.')\n",
    "    meshs_avg = {label: face_mesh.process(cv2.cvtColor(np.rint(image * 256).astype(np.uint8), cv2.COLOR_BGR2RGB))\n",
    "                 for label, image in zip(['low', 'medium', 'high'], [avgimg_wr_low, avgimg_wr_medium, avgimg_wr_high])}"
   ]
  },
  {
   "cell_type": "code",
   "execution_count": null,
   "id": "0fe470c2",
   "metadata": {},
   "outputs": [],
   "source": [
    "plt.imshow(draw(avgimg_wr_low, meshs_avg['low']))\n",
    "compute_w_ratio(meshs_avg['low'])"
   ]
  },
  {
   "cell_type": "code",
   "execution_count": null,
   "id": "caae735d",
   "metadata": {},
   "outputs": [],
   "source": [
    "plt.imshow(draw(avgimg_wr_medium, meshs_avg['medium']))\n",
    "compute_w_ratio(meshs_avg['medium'])"
   ]
  },
  {
   "cell_type": "code",
   "execution_count": null,
   "id": "1f81fcb1",
   "metadata": {},
   "outputs": [],
   "source": [
    "plt.imshow(draw(avgimg_wr_high, meshs_avg['high']))\n",
    "compute_w_ratio(meshs_avg['high'])"
   ]
  }
 ],
 "metadata": {
  "kernelspec": {
   "display_name": "testing",
   "language": "python",
   "name": "testing"
  },
  "language_info": {
   "codemirror_mode": {
    "name": "ipython",
    "version": 3
   },
   "file_extension": ".py",
   "mimetype": "text/x-python",
   "name": "python",
   "nbconvert_exporter": "python",
   "pygments_lexer": "ipython3",
   "version": "3.9.11"
  }
 },
 "nbformat": 4,
 "nbformat_minor": 5
}
