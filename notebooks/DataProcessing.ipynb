{
 "cells": [
  {
   "cell_type": "code",
   "execution_count": null,
   "id": "40821582-7a8d-4764-9304-d8b8403cc966",
   "metadata": {},
   "outputs": [],
   "source": [
    "def js_to_python(s):\n",
    "    d = {\n",
    "        \"true\": \"True\",\n",
    "        \"false\": \"False\",\n",
    "        \"null\": \"None\",\n",
    "        \"[]\": \"None\",\n",
    "        \"][\": \"],[\"\n",
    "    }\n",
    "    for k, v in d.items():\n",
    "        s = s.replace(k, v)\n",
    "    return s\n",
    "\n",
    "def read_line(s):\n",
    "    try:\n",
    "        a, b = eval(js_to_python(s))\n",
    "        return a\n",
    "    except Exception as e:\n",
    "        print(e)\n",
    "        return []"
   ]
  },
  {
   "cell_type": "code",
   "execution_count": null,
   "id": "cc12ed7f-816b-4580-a087-17f3fb78d5da",
   "metadata": {},
   "outputs": [],
   "source": [
    "fn = \"../data/jatos_results_20230102094455.txt\"\n",
    "fn = \"../data/jatos_results_20230102094507.txt\"\n",
    "with open(fn) as fh:\n",
    "    raw_data = [read_line(s) for s in fh]\n",
    "len(raw_data)"
   ]
  },
  {
   "cell_type": "code",
   "execution_count": null,
   "id": "3a2e1216-9943-4181-8c7a-56d1fcc097a6",
   "metadata": {},
   "outputs": [],
   "source": [
    "[len(s) for s in raw_data]"
   ]
  },
  {
   "cell_type": "code",
   "execution_count": null,
   "id": "7ea76277-6f62-42f5-b1ff-65adf7e1db46",
   "metadata": {},
   "outputs": [],
   "source": [
    "[raw_data[0]]"
   ]
  }
 ],
 "metadata": {
  "kernelspec": {
   "display_name": "Python 3",
   "language": "python",
   "name": "python3"
  },
  "language_info": {
   "codemirror_mode": {
    "name": "ipython",
    "version": 3
   },
   "file_extension": ".py",
   "mimetype": "text/x-python",
   "name": "python",
   "nbconvert_exporter": "python",
   "pygments_lexer": "ipython3",
   "version": "3.8.0"
  }
 },
 "nbformat": 4,
 "nbformat_minor": 5
}
