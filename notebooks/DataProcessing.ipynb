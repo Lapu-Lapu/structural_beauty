{
 "cells": [
  {
   "cell_type": "code",
   "execution_count": null,
   "id": "185dbcd0-b899-4d93-b18e-7929c2ea5ed7",
   "metadata": {},
   "outputs": [],
   "source": [
    "import os\n",
    "from more_itertools import bucket\n",
    "import pandas as pd\n",
    "import re"
   ]
  },
  {
   "cell_type": "code",
   "execution_count": null,
   "id": "5fb52bfd-efbc-4827-baa7-80de079179f6",
   "metadata": {},
   "outputs": [],
   "source": [
    "def js_to_python(s):\n",
    "    d = {\n",
    "        \"true\": \"True\",\n",
    "        \"false\": \"False\",\n",
    "        \"null\": \"None\",\n",
    "        \"[]\": \"None\",\n",
    "        \"][\": \"],[\"\n",
    "    }\n",
    "    for k, v in d.items():\n",
    "        s = s.replace(k, v)\n",
    "    return s\n",
    "\n",
    "def read_line(s):\n",
    "    try:\n",
    "        a, b = eval(js_to_python(s))\n",
    "        return a\n",
    "    except Exception as e:\n",
    "        print(e)\n",
    "        return eval(js_to_python(s))\n",
    "        return []\n",
    "\n",
    "def listdecorator(f):\n",
    "    return lambda x: list(f(x))\n",
    "\n",
    "@listdecorator\n",
    "def get_trial_data(exp_dicts):\n",
    "    return filter(is_trial, exp_dicts)\n",
    "        \n",
    "def is_trial(d):\n",
    "    st = 'stimulus_type'\n",
    "    return (d[st] == 'test') if (st in d.keys()) else False\n",
    "\n",
    "def get_all_stimuli(trials):\n",
    "    return [os.path.basename(trial[s]) for trial in trials for s in ['left', 'right']]\n",
    "\n",
    "def get_group(fn):\n",
    "    for g in ['low', 'high', 'medium']:\n",
    "        if g in fn:\n",
    "            return g\n",
    "\n",
    "def nonempty_vp_idx(Ns, thr=0):\n",
    "    return map(lambda x: x[0], (filter(lambda x: x[1] > thr, enumerate(Ns))))"
   ]
  },
  {
   "cell_type": "code",
   "execution_count": null,
   "id": "19dff43b-92b0-4f27-95a1-62a8e7775e12",
   "metadata": {},
   "outputs": [],
   "source": [
    "prefix = 'experiment'\n",
    "result_files = {\n",
    "    # fn = \"../data/experiment/jatos_results_20230102094455.txt\"  # single vp export\n",
    "    # fn = \"../data/experiment/jatos_results_20230102094507.txt\"  # export all\n",
    "    'pilot_general_multiple': \"../data/experiment/jatos_results_20230110083507.txt\",\n",
    "    'pilot_personal_multiple': \"../data/experiment/jatos_results_20230110100535.txt\",\n",
    "    'first_test_csv': \"../data/experiment/jatos_results_20230111150257.txt\",\n",
    "    'second_pilot': \"../data/experiment/jatos_results_20230116082513.txt\",\n",
    "    'experiment': \"../data/experiment/jatos_results_20230120125730.txt\",\n",
    "    'experiment': \"../data/experiment/jatos_results_20230124105303.txt\"\n",
    "}\n",
    "fn = result_files[prefix]\n",
    "\n",
    "# with open(fn) as fh:\n",
    "#     raw_data = [read_line(s) for s in fh]\n",
    "# len(raw_data)\n",
    "\n",
    "df = pd.read_csv(fn)\n",
    "raw_data = [list(filter(is_trial, df.to_dict('records')))]\n",
    "len(raw_data[0])\n",
    "# participants\n",
    "\n",
    "participant_series = (df.groupby('sona').trial_index.agg(len) > 400)\n",
    "participants = participant_series.index[participant_series]"
   ]
  },
  {
   "cell_type": "code",
   "execution_count": null,
   "id": "ee38d59e-6897-407e-bb22-1c3a8dd726cb",
   "metadata": {},
   "outputs": [],
   "source": [
    "participant_series = (df.groupby('subject').trial_index.agg(len) > 400)\n",
    "participants = participant_series.index[participant_series]\n",
    "raw_data = [list(filter(is_trial, df[df.subject == p].to_dict('records'))) for p in participants]\n",
    "len(raw_data)"
   ]
  },
  {
   "cell_type": "code",
   "execution_count": null,
   "id": "e745df2a-585a-44ce-890a-4c6817e6bb9c",
   "metadata": {},
   "outputs": [],
   "source": [
    "df = df[df.subject.isin(participants)]\n",
    "df['time_elapsed'] = df['time_elapsed'].astype(int)"
   ]
  },
  {
   "cell_type": "code",
   "execution_count": null,
   "id": "98698adb-54e6-4823-aa32-03f66242317e",
   "metadata": {},
   "outputs": [],
   "source": [
    "exp_durations = ( df.groupby('subject').agg(lambda df: df.iloc[-1]).time_elapsed - df.groupby('subject').agg(lambda df: df.iloc[0]).time_elapsed ) / 60000\n",
    "exp_durations.mean()"
   ]
  },
  {
   "cell_type": "code",
   "execution_count": null,
   "id": "1152bb17-2ed7-4b1f-8445-281d70991f95",
   "metadata": {},
   "outputs": [],
   "source": [
    "# with open('check_pairs_exp.txt') as fh:\n",
    "#     s = js_to_python(fh.read())\n",
    "\n",
    "# trials = eval(s)\n",
    "# raw_data = [trials]\n",
    "\n",
    "# with open('check_pairs_exp.txt', 'w') as fh:\n",
    "#     fh.write(s)"
   ]
  },
  {
   "cell_type": "code",
   "execution_count": null,
   "id": "3fdbd8d6-3932-4d40-a829-e869f36bd5e6",
   "metadata": {},
   "outputs": [],
   "source": [
    "Ns = [len(s) for s in raw_data]\n",
    "print(Ns)"
   ]
  },
  {
   "cell_type": "code",
   "execution_count": null,
   "id": "1ed0afbc-7516-439d-b020-d5a327e53074",
   "metadata": {},
   "outputs": [],
   "source": [
    "def bias(trials):\n",
    "    c = {g: 0 + 0j for g in ['low', 'medium', 'high']}\n",
    "    for trial in trials:\n",
    "        left, right = [os.path.basename(trial[lr]) for lr in ['left', 'right']]\n",
    "        g = re.findall(\"low|high|medium\", left)[0]\n",
    "        if left == right:\n",
    "            if trial['response'] == 'f':\n",
    "                c[g] += 1\n",
    "            else:\n",
    "                c[g] += 1j\n",
    "    return c"
   ]
  },
  {
   "cell_type": "code",
   "execution_count": null,
   "id": "ee097c62-e384-431e-bfa3-73ad9c7084fe",
   "metadata": {},
   "outputs": [],
   "source": [
    "6 * 6 *3 + 3 * 6 * 2"
   ]
  },
  {
   "cell_type": "code",
   "execution_count": null,
   "id": "089aaa6b-796a-4d69-8774-9ee5637fe802",
   "metadata": {},
   "outputs": [],
   "source": [
    "3 * 6 * 2"
   ]
  },
  {
   "cell_type": "code",
   "execution_count": null,
   "id": "e956ed50-c9cb-4f63-831a-82cf42ed7590",
   "metadata": {},
   "outputs": [],
   "source": [
    "# len(trials)/3\n",
    "7/49\n",
    "240 * 7 / (7 * 7), 240 * 2 / (7 * 7 * 3)\n",
    "# trials\n",
    "(3 * (6 * 6 - 6 + 6 * 2)) + 3 * 3 * 2\n",
    "(3 * (6 * 6 - 6 + 6 * 2)) + 3 * 3\n",
    "(3 * (6 * 7))# + 3 * 3\n",
    "# (3 * (6 * 6 - 6 + 6 * 2))"
   ]
  },
  {
   "cell_type": "code",
   "execution_count": null,
   "id": "db35b612-f3f5-4c6a-a02e-c6c186333fff",
   "metadata": {},
   "outputs": [],
   "source": [
    "groups = ['low', 'medium', 'high']\n",
    "\n",
    "for vp in nonempty_vp_idx(Ns, 100):\n",
    "    trials = get_trial_data(raw_data[vp])\n",
    "    b = bias(trials)\n",
    "    print(vp, b, sum(abs(v) for k, v in b.items()))\n",
    "    stimulus_set = set(get_all_stimuli(trials))\n",
    "    grouped_stimuli = {g: list(bucket(stimulus_set, lambda x: get_group(x))[g]) for g in ['low', 'medium', 'high']}\n",
    "    losswin_counts = {}\n",
    "    for g in ['low', 'high', 'medium']:\n",
    "        losswin_counts[g] = {}\n",
    "        for i in range(len(grouped_stimuli[g])):\n",
    "            p1 = grouped_stimuli[g][i]\n",
    "            for p2 in grouped_stimuli[g][(i+1):]:\n",
    "                losswin_counts[g][(p1, p2)] = [0, 0]\n",
    "            \n",
    "\n",
    "    for trial in trials:\n",
    "        left, right = [os.path.basename(trial[lr]) for lr in ['left', 'right']]\n",
    "        if left == right:\n",
    "            continue\n",
    "        g = get_group(left)\n",
    "        idx =  0 if trial['response'] == 'f' else 1\n",
    "        try:\n",
    "            losswin_counts[g][(left, right)][idx] += 1\n",
    "        except KeyError:\n",
    "            try:\n",
    "                losswin_counts[g][(right, left)][idx-1] += 1\n",
    "            except KeyError as e:\n",
    "                print(e)\n",
    "\n",
    "    for g in ['low', 'medium', 'high']:\n",
    "        df = pd.DataFrame(losswin_counts[g]).T\n",
    "        df = df.rename({0: \"win1\", 1: \"win2\"}, axis=1)\n",
    "        pkl_fn = f\"../data/processed/{prefix}_vp-{vp}_g-{g}.pkl\"\n",
    "        print('write:', pkl_fn)\n",
    "        df.to_pickle(pkl_fn)"
   ]
  },
  {
   "cell_type": "code",
   "execution_count": null,
   "id": "586d6e8f-07d2-47b8-92a0-a22e9a4f1153",
   "metadata": {},
   "outputs": [],
   "source": [
    "df"
   ]
  },
  {
   "cell_type": "code",
   "execution_count": null,
   "id": "ea11d8e7-b737-4f77-9d12-4d3c49de15d6",
   "metadata": {
    "tags": []
   },
   "outputs": [],
   "source": [
    "len(trials)\n",
    "len(set([tuple([os.path.basename(trial[lr]) for lr in ['left', 'right']]) for trial in trials]))"
   ]
  },
  {
   "cell_type": "code",
   "execution_count": null,
   "id": "a2203f5e-d46e-4c0f-877d-783007aa84fc",
   "metadata": {},
   "outputs": [],
   "source": [
    "stimuli = []\n",
    "classes = ['-100', '-66', '-33', '33', '66', '100'];\n",
    "\n",
    "for g in groups:\n",
    "    for i in range(6):\n",
    "        \n",
    "        stimuli.append((\n",
    "            f\"{g}_({classes[i]}).png\",\n",
    "            f'avgimg_wr_{g}.png',\n",
    "        ))\n",
    "        stimuli.append((\n",
    "            f'avgimg_wr_{g}.png',\n",
    "            f\"{g}_({classes[i]}).png\",\n",
    "        ))\n",
    "        \n",
    "        for j in range(6):\n",
    "            if i == j:\n",
    "                continue\n",
    "            stimuli.append( (f\"{g}_({classes[i]}).png\", f\"{g}_({classes[j]}).png\"))\n",
    "            \n",
    "for m in groups:\n",
    "    for n in groups:\n",
    "        stimuli.append((\n",
    "            f'avgimg_wr_{m}.png',\n",
    "            f'avgimg_wr_{n}.png',\n",
    "        ))\n",
    "        stimuli.append((\n",
    "            f'avgimg_wr_{n}.png',\n",
    "            f'avgimg_wr_{m}.png',\n",
    "        ))\n",
    "        \n",
    "len(set(stimuli))# - set([tuple([os.path.basename(trial[lr]) for lr in ['left', 'right']]) for trial in trials])"
   ]
  },
  {
   "cell_type": "code",
   "execution_count": null,
   "id": "c2cbf379-b3bd-4cd2-b0ee-a652621b8326",
   "metadata": {},
   "outputs": [],
   "source": [
    "losswin_counts = {}\n",
    "for g in ['low', 'high', 'medium']:\n",
    "    losswin_counts[g] = {}\n",
    "    for i in range(len(grouped_stimuli[g])):\n",
    "        p1 = grouped_stimuli[g][i]\n",
    "        for p2 in grouped_stimuli[g][(i+1):]:\n",
    "            losswin_counts[g][(p1, p2)] = [0, 0]\n",
    "            \n",
    "for vp in nonempty_vp_idx(Ns, 100):\n",
    "    trials = get_trial_data(raw_data[vp])\n",
    "    b = bias(trials)\n",
    "    print(vp, b, sum(abs(v) for k, v in b.items()))\n",
    "    stimulus_set = set(get_all_stimuli(trials))\n",
    "    grouped_stimuli = {g: list(bucket(stimulus_set, lambda x: get_group(x))[g]) for g in ['low', 'medium', 'high']}\n",
    "\n",
    "    for trial in trials:\n",
    "        left, right = [os.path.basename(trial[lr]) for lr in ['left', 'right']]\n",
    "        if left == right:\n",
    "            continue\n",
    "        g = get_group(left)\n",
    "        idx =  0 if trial['response'] == 'f' else 1\n",
    "        try:\n",
    "            losswin_counts[g][(left, right)][idx] += 1\n",
    "        except KeyError:\n",
    "            try:\n",
    "                losswin_counts[g][(right, left)][idx-1] += 1\n",
    "            except KeyError as e:\n",
    "                print(e)\n",
    "            #losswin_counts[g][(right, left)][idx-1] += 1\n",
    "\n",
    "for g in ['low', 'medium', 'high']:\n",
    "    df = pd.DataFrame(losswin_counts[g]).T\n",
    "    df = df.rename({0: \"win1\", 1: \"win2\"}, axis=1)\n",
    "    pkl_fn = f\"../data/processed/pooled_{prefix}_g-{g}.pkl\"\n",
    "    df.to_pickle(pkl_fn)"
   ]
  },
  {
   "cell_type": "code",
   "execution_count": null,
   "id": "61a39deb-02a0-41cd-80e1-172d20b588bf",
   "metadata": {},
   "outputs": [],
   "source": [
    "df\n",
    "#f\"../data/processed/pooled_{prefix}_vp-{vp}_g-{g}.pkl\""
   ]
  },
  {
   "cell_type": "code",
   "execution_count": null,
   "id": "d8da720f-f1c3-435d-9eac-f290d0cd658f",
   "metadata": {},
   "outputs": [],
   "source": []
  }
 ],
 "metadata": {
  "kernelspec": {
   "display_name": "Python 3 (ipykernel)",
   "language": "python",
   "name": "python3"
  },
  "language_info": {
   "codemirror_mode": {
    "name": "ipython",
    "version": 3
   },
   "file_extension": ".py",
   "mimetype": "text/x-python",
   "name": "python",
   "nbconvert_exporter": "python",
   "pygments_lexer": "ipython3",
   "version": "3.9.7"
  }
 },
 "nbformat": 4,
 "nbformat_minor": 5
}
