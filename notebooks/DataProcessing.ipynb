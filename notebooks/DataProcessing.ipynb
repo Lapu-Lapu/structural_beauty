{
 "cells": [
  {
   "cell_type": "code",
   "execution_count": null,
   "metadata": {},
   "outputs": [],
   "source": [
    "def js_to_python(s):\n",
    "    d = {\n",
    "        \"true\": \"True\",\n",
    "        \"false\": \"False\",\n",
    "        \"null\": \"None\",\n",
    "        \"[]\": \"None\",\n",
    "        \"][\": \"],[\"\n",
    "    }\n",
    "    for k, v in d.items():\n",
    "        s = s.replace(k, v)\n",
    "    return s\n",
    "\n",
    "def read_line(s):\n",
    "    try:\n",
    "        a, b = eval(js_to_python(s))\n",
    "        return a\n",
    "    except Exception as e:\n",
    "        print(e)\n",
    "        return []"
   ]
  },
  {
   "cell_type": "code",
   "execution_count": null,
   "metadata": {},
   "outputs": [],
   "source": [
    "def listdecorator(f):\n",
    "    return lambda x: list(f(x))\n",
    "\n",
    "@listdecorator\n",
    "def get_trial_data(exp_dicts):\n",
    "    return filter(is_trial, exp_dicts)\n",
    "        \n",
    "def is_trial(d):\n",
    "    st = 'stimulus_type'\n",
    "    return (d[st] == 'test') if (st in d.keys()) else False"
   ]
  },
  {
   "cell_type": "code",
   "execution_count": null,
   "metadata": {},
   "outputs": [],
   "source": [
    "import os\n",
    "import more_itertools as it2\n",
    "\n",
    "def get_all_stimuli(trials):\n",
    "    return [os.path.basename(trial[s]) for trial in trials for s in ['left', 'right']]\n",
    "\n",
    "def get_group(fn):\n",
    "    for g in ['low', 'high', 'medium']:\n",
    "        if g in fn:\n",
    "            return g"
   ]
  },
  {
   "cell_type": "code",
   "execution_count": null,
   "metadata": {},
   "outputs": [],
   "source": [
    "fn = \"../data/experiment/jatos_results_20230102094455.txt\"  # single vp export\n",
    "fn = \"../data/experiment/jatos_results_20230102094507.txt\"  # export all\n",
    "with open(fn) as fh:\n",
    "    raw_data = [read_line(s) for s in fh]\n",
    "len(raw_data)"
   ]
  },
  {
   "cell_type": "code",
   "execution_count": null,
   "metadata": {},
   "outputs": [],
   "source": [
    "[len(s) for s in raw_data]"
   ]
  },
  {
   "cell_type": "code",
   "execution_count": null,
   "metadata": {},
   "outputs": [],
   "source": [
    "trials = get_trial_data(raw_data[1])"
   ]
  },
  {
   "cell_type": "code",
   "execution_count": null,
   "metadata": {},
   "outputs": [],
   "source": [
    "stimulus_set = set(get_all_stimuli(trials))\n",
    "stimulus_set\n",
    "\n",
    "grouped_stimuli = {g: list(it2.bucket(stimulus_set, lambda x: get_group(x))[g]) for g in ['low', 'medium', 'high']}\n",
    "# grouped_stimuli['low']"
   ]
  },
  {
   "cell_type": "code",
   "execution_count": null,
   "metadata": {},
   "outputs": [],
   "source": [
    "losswin_counts = {}\n",
    "for g in ['low', 'high', 'medium']:\n",
    "    losswin_counts[g] = {}\n",
    "    for i in range(len(grouped_stimuli[g])):\n",
    "        p1 = grouped_stimuli[g][i]\n",
    "        # for p2 in grouped_stimuli[g][(i):]:\n",
    "        for p2 in grouped_stimuli[g][(i+1):]:\n",
    "            # print(p1, p2)\n",
    "            losswin_counts[g][(p1, p2)] = [0, 0]"
   ]
  },
  {
   "cell_type": "code",
   "execution_count": null,
   "metadata": {},
   "outputs": [],
   "source": [
    "for trial in trials:\n",
    "    left, right = [os.path.basename(trial[lr]) for lr in ['left', 'right']]\n",
    "    if left == right:\n",
    "        continue\n",
    "    g = get_group(left)\n",
    "    idx =  0 if trial['response'] == 'f' else 1\n",
    "    try:\n",
    "        losswin_counts[g][(left, right)][idx] += 1\n",
    "    except KeyError:\n",
    "        losswin_counts[g][(right, left)][idx-1] += 1\n",
    "    \n",
    "# losswin_counts"
   ]
  },
  {
   "cell_type": "code",
   "execution_count": null,
   "metadata": {},
   "outputs": [],
   "source": [
    "# losswin_counts"
   ]
  },
  {
   "cell_type": "code",
   "execution_count": null,
   "metadata": {},
   "outputs": [],
   "source": [
    "import pandas as pd\n",
    "df = pd.DataFrame(losswin_counts['low']).T\n",
    "df = df.rename({0: \"win1\", 1: \"win2\"}, axis=1)\n",
    "df"
   ]
  },
  {
   "cell_type": "code",
   "execution_count": null,
   "metadata": {},
   "outputs": [],
   "source": [
    "# df[0] / (df[0] + df[1])"
   ]
  },
  {
   "cell_type": "code",
   "execution_count": null,
   "metadata": {},
   "outputs": [],
   "source": [
    "df.to_pickle(\"exp_processed.pkl\")"
   ]
  },
  {
   "cell_type": "code",
   "execution_count": null,
   "metadata": {},
   "outputs": [],
   "source": []
  }
 ],
 "metadata": {
  "kernelspec": {
   "display_name": "Python 3",
   "language": "python",
   "name": "python3"
  },
  "language_info": {
   "codemirror_mode": {
    "name": "ipython",
    "version": 3
   },
   "file_extension": ".py",
   "mimetype": "text/x-python",
   "name": "python",
   "nbconvert_exporter": "python",
   "pygments_lexer": "ipython3",
   "version": "3.8.3"
  }
 },
 "nbformat": 4,
 "nbformat_minor": 5
}
