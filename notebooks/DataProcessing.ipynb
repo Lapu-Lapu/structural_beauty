{
 "cells": [
  {
   "cell_type": "code",
   "execution_count": null,
   "id": "40821582-7a8d-4764-9304-d8b8403cc966",
   "metadata": {},
   "outputs": [],
   "source": [
    "def js_to_python(s):\n",
    "    d = {\n",
    "        \"true\": \"True\",\n",
    "        \"false\": \"False\",\n",
    "        \"null\": \"None\",\n",
    "        \"[]\": \"None\",\n",
    "        \"][\": \"],[\"\n",
    "    }\n",
    "    for k, v in d.items():\n",
    "        s = s.replace(k, v)\n",
    "    return s\n",
    "\n",
    "def read_line(s):\n",
    "    try:\n",
    "        a, b = eval(js_to_python(s))\n",
    "        return a\n",
    "    except Exception as e:\n",
    "        print(e)\n",
    "        return []"
   ]
  },
  {
   "cell_type": "code",
   "execution_count": null,
   "id": "ca9e422c-b7c5-4c70-8b23-726c50aa933f",
   "metadata": {},
   "outputs": [],
   "source": [
    "def listdecorator(f):\n",
    "    return lambda x: list(f(x))\n",
    "\n",
    "@listdecorator\n",
    "def get_trial_data(exp_dicts):\n",
    "    return filter(is_trial, exp_dicts)\n",
    "        \n",
    "def is_trial(d):\n",
    "    st = 'stimulus_type'\n",
    "    return (d[st] == 'test') if (st in d.keys()) else False"
   ]
  },
  {
   "cell_type": "code",
   "execution_count": null,
   "id": "94b2d605-343e-458d-9545-9b9205e4dea5",
   "metadata": {},
   "outputs": [],
   "source": [
    "import os\n",
    "import more_itertools as it2\n",
    "\n",
    "def get_all_stimuli(trials):\n",
    "    return [os.path.basename(trial[s]) for trial in trials for s in ['left', 'right']]\n",
    "\n",
    "def get_group(fn):\n",
    "    for g in ['low', 'high', 'medium']:\n",
    "        if g in fn:\n",
    "            return g"
   ]
  },
  {
   "cell_type": "code",
   "execution_count": null,
   "id": "cc12ed7f-816b-4580-a087-17f3fb78d5da",
   "metadata": {},
   "outputs": [],
   "source": [
    "fn = \"../data/experiment/jatos_results_20230102094455.txt\"  # single vp export\n",
    "fn = \"../data/experiment/jatos_results_20230102094507.txt\"  # export all\n",
    "with open(fn) as fh:\n",
    "    raw_data = [read_line(s) for s in fh]\n",
    "len(raw_data)"
   ]
  },
  {
   "cell_type": "code",
   "execution_count": null,
   "id": "3a2e1216-9943-4181-8c7a-56d1fcc097a6",
   "metadata": {},
   "outputs": [],
   "source": [
    "[len(s) for s in raw_data]"
   ]
  },
  {
   "cell_type": "code",
   "execution_count": null,
   "id": "534dec1a-7387-42f0-963a-bc66dc85bf04",
   "metadata": {},
   "outputs": [],
   "source": [
    "trials = get_trial_data(raw_data[1])"
   ]
  },
  {
   "cell_type": "code",
   "execution_count": null,
   "id": "cc0e9a86-fddf-446f-aa62-86e23834480a",
   "metadata": {},
   "outputs": [],
   "source": [
    "stimulus_set = set(get_all_stimuli(trials))\n",
    "stimulus_set\n",
    "\n",
    "grouped_stimuli = {g: list(it2.bucket(stimulus_set, lambda x: get_group(x))[g]) for g in ['low', 'medium', 'high']}\n",
    "# grouped_stimuli['low']"
   ]
  },
  {
   "cell_type": "code",
   "execution_count": null,
   "id": "98087829-b0f2-4b70-9830-cc62879ac60b",
   "metadata": {},
   "outputs": [],
   "source": [
    "losswin_counts = {}\n",
    "for g in ['low', 'high', 'medium']:\n",
    "    losswin_counts[g] = {}\n",
    "    for i in range(len(grouped_stimuli[g])):\n",
    "        p1 = grouped_stimuli[g][i]\n",
    "        for p2 in grouped_stimuli[g][(i):]:\n",
    "            # print(p1, p2)\n",
    "            losswin_counts[g][(p1, p2)] = [0, 0]"
   ]
  },
  {
   "cell_type": "code",
   "execution_count": null,
   "id": "61d4dd58-e198-43d5-8e98-fcb2bf666edb",
   "metadata": {},
   "outputs": [],
   "source": [
    "for trial in trials:\n",
    "    left, right = [os.path.basename(trial[lr]) for lr in ['left', 'right']]\n",
    "    g = get_group(left)\n",
    "    idx =  0 if trial['response'] == 'f' else 1\n",
    "    try:\n",
    "        losswin_counts[g][(left, right)][idx] += 1\n",
    "    except KeyError:\n",
    "        losswin_counts[g][(right, left)][idx-1] += 1\n",
    "    \n",
    "# losswin_counts"
   ]
  },
  {
   "cell_type": "code",
   "execution_count": null,
   "id": "d52c636b-97c3-4051-bde1-c20e5a14ee3d",
   "metadata": {},
   "outputs": [],
   "source": [
    "# losswin_counts"
   ]
  },
  {
   "cell_type": "code",
   "execution_count": null,
   "id": "2216bdbe-77ff-4c35-b84e-f6fbc31361af",
   "metadata": {},
   "outputs": [],
   "source": [
    "import pandas as pd\n",
    "df = pd.DataFrame(losswin_counts['low']).T"
   ]
  },
  {
   "cell_type": "code",
   "execution_count": null,
   "id": "49bee43a-0ce7-4928-9029-16ef5c93dfa3",
   "metadata": {},
   "outputs": [],
   "source": [
    "df[0] / (df[0] + df[1])"
   ]
  }
 ],
 "metadata": {
  "kernelspec": {
   "display_name": "Python 3",
   "language": "python",
   "name": "python3"
  },
  "language_info": {
   "codemirror_mode": {
    "name": "ipython",
    "version": 3
   },
   "file_extension": ".py",
   "mimetype": "text/x-python",
   "name": "python",
   "nbconvert_exporter": "python",
   "pygments_lexer": "ipython3",
   "version": "3.8.0"
  }
 },
 "nbformat": 4,
 "nbformat_minor": 5
}
