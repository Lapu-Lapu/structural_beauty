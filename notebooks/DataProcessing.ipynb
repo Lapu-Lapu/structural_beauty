{
 "cells": [
  {
   "cell_type": "code",
   "execution_count": null,
   "id": "185dbcd0-b899-4d93-b18e-7929c2ea5ed7",
   "metadata": {},
   "outputs": [],
   "source": [
    "import os\n",
    "from more_itertools import bucket\n",
    "import pandas as pd"
   ]
  },
  {
   "cell_type": "code",
   "execution_count": null,
   "id": "5fb52bfd-efbc-4827-baa7-80de079179f6",
   "metadata": {},
   "outputs": [],
   "source": [
    "def js_to_python(s):\n",
    "    d = {\n",
    "        \"true\": \"True\",\n",
    "        \"false\": \"False\",\n",
    "        \"null\": \"None\",\n",
    "        \"[]\": \"None\",\n",
    "        \"][\": \"],[\"\n",
    "    }\n",
    "    for k, v in d.items():\n",
    "        s = s.replace(k, v)\n",
    "    return s\n",
    "\n",
    "def read_line(s):\n",
    "    try:\n",
    "        a, b = eval(js_to_python(s))\n",
    "        return a\n",
    "    except Exception as e:\n",
    "        print(e)\n",
    "        return []\n",
    "\n",
    "def listdecorator(f):\n",
    "    return lambda x: list(f(x))\n",
    "\n",
    "@listdecorator\n",
    "def get_trial_data(exp_dicts):\n",
    "    return filter(is_trial, exp_dicts)\n",
    "        \n",
    "def is_trial(d):\n",
    "    st = 'stimulus_type'\n",
    "    return (d[st] == 'test') if (st in d.keys()) else False\n",
    "\n",
    "def get_all_stimuli(trials):\n",
    "    return [os.path.basename(trial[s]) for trial in trials for s in ['left', 'right']]\n",
    "\n",
    "def get_group(fn):\n",
    "    for g in ['low', 'high', 'medium']:\n",
    "        if g in fn:\n",
    "            return g\n",
    "\n",
    "def nonempty_vp_idx(Ns):\n",
    "    return map(lambda x: x[0], (filter(lambda x: x[1] > 0, enumerate(Ns))))"
   ]
  },
  {
   "cell_type": "code",
   "execution_count": null,
   "id": "e2e17389",
   "metadata": {},
   "outputs": [],
   "source": [
    "fn = \"../data/experiment/jatos_results_20230102094455.txt\"  # single vp export\n",
    "fn = \"../data/experiment/jatos_results_20230102094507.txt\"  # export all\n",
    "with open(fn) as fh:\n",
    "    raw_data = [read_line(s) for s in fh]\n",
    "len(raw_data)"
   ]
  },
  {
   "cell_type": "code",
   "execution_count": null,
   "id": "3fdbd8d6-3932-4d40-a829-e869f36bd5e6",
   "metadata": {},
   "outputs": [],
   "source": [
    "Ns = [len(s) for s in raw_data]\n",
    "print(Ns)"
   ]
  },
  {
   "cell_type": "code",
   "execution_count": null,
   "id": "961e3939-7326-44be-9fc4-7829f27225a3",
   "metadata": {},
   "outputs": [],
   "source": [
    "for vp in nonempty_vp_idx(Ns):\n",
    "    trials = get_trial_data(raw_data[vp])\n",
    "\n",
    "    stimulus_set = set(get_all_stimuli(trials))\n",
    "\n",
    "    grouped_stimuli = {g: list(bucket(stimulus_set, lambda x: get_group(x))[g]) for g in ['low', 'medium', 'high']}\n",
    "\n",
    "    losswin_counts = {}\n",
    "    for g in ['low', 'high', 'medium']:\n",
    "        losswin_counts[g] = {}\n",
    "        for i in range(len(grouped_stimuli[g])):\n",
    "            p1 = grouped_stimuli[g][i]\n",
    "            for p2 in grouped_stimuli[g][(i+1):]:\n",
    "                losswin_counts[g][(p1, p2)] = [0, 0]\n",
    "\n",
    "    for trial in trials:\n",
    "        left, right = [os.path.basename(trial[lr]) for lr in ['left', 'right']]\n",
    "        if left == right:\n",
    "            continue\n",
    "        g = get_group(left)\n",
    "        idx =  0 if trial['response'] == 'f' else 1\n",
    "        try:\n",
    "            losswin_counts[g][(left, right)][idx] += 1\n",
    "        except KeyError:\n",
    "            losswin_counts[g][(right, left)][idx-1] += 1\n",
    "\n",
    "    for g in ['low', 'medium', 'high']:\n",
    "        df = pd.DataFrame(losswin_counts[g]).T\n",
    "        df = df.rename({0: \"win1\", 1: \"win2\"}, axis=1)\n",
    "        df.to_pickle(f\"../data/processed/exp_processed_vp-{vp}_g-{g}.pkl\")"
   ]
  }
 ],
 "metadata": {
  "kernelspec": {
   "display_name": "Python 3 (ipykernel)",
   "language": "python",
   "name": "python3"
  },
  "language_info": {
   "codemirror_mode": {
    "name": "ipython",
    "version": 3
   },
   "file_extension": ".py",
   "mimetype": "text/x-python",
   "name": "python",
   "nbconvert_exporter": "python",
   "pygments_lexer": "ipython3",
   "version": "3.9.7"
  }
 },
 "nbformat": 4,
 "nbformat_minor": 5
}
