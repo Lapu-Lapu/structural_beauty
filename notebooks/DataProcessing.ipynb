{
 "cells": [
  {
   "cell_type": "code",
   "execution_count": null,
   "id": "185dbcd0-b899-4d93-b18e-7929c2ea5ed7",
   "metadata": {},
   "outputs": [],
   "source": [
    "import os\n",
    "from more_itertools import bucket\n",
    "import pandas as pd"
   ]
  },
  {
   "cell_type": "code",
   "execution_count": null,
   "id": "5fb52bfd-efbc-4827-baa7-80de079179f6",
   "metadata": {},
   "outputs": [],
   "source": [
    "def js_to_python(s):\n",
    "    d = {\n",
    "        \"true\": \"True\",\n",
    "        \"false\": \"False\",\n",
    "        \"null\": \"None\",\n",
    "        \"[]\": \"None\",\n",
    "        \"][\": \"],[\"\n",
    "    }\n",
    "    for k, v in d.items():\n",
    "        s = s.replace(k, v)\n",
    "    return s\n",
    "\n",
    "def read_line(s):\n",
    "    try:\n",
    "        a, b = eval(js_to_python(s))\n",
    "        return a\n",
    "    except Exception as e:\n",
    "        print(e)\n",
    "        return eval(js_to_python(s))\n",
    "        return []\n",
    "\n",
    "def listdecorator(f):\n",
    "    return lambda x: list(f(x))\n",
    "\n",
    "@listdecorator\n",
    "def get_trial_data(exp_dicts):\n",
    "    return filter(is_trial, exp_dicts)\n",
    "        \n",
    "def is_trial(d):\n",
    "    st = 'stimulus_type'\n",
    "    return (d[st] == 'test') if (st in d.keys()) else False\n",
    "\n",
    "def get_all_stimuli(trials):\n",
    "    return [os.path.basename(trial[s]) for trial in trials for s in ['left', 'right']]\n",
    "\n",
    "def get_group(fn):\n",
    "    for g in ['low', 'high', 'medium']:\n",
    "        if g in fn:\n",
    "            return g\n",
    "\n",
    "def nonempty_vp_idx(Ns, thr=0):\n",
    "    return map(lambda x: x[0], (filter(lambda x: x[1] > thr, enumerate(Ns))))"
   ]
  },
  {
   "cell_type": "code",
   "execution_count": null,
   "id": "e2e17389",
   "metadata": {},
   "outputs": [],
   "source": [
    "prefix = 'pilot_general_multiple'\n",
    "result_files = {\n",
    "# fn = \"../data/experiment/jatos_results_20230102094455.txt\"  # single vp export\n",
    "# fn = \"../data/experiment/jatos_results_20230102094507.txt\"  # export all\n",
    "'pilot_general_multiple': \"../data/experiment/jatos_results_20230110083507.txt\",\n",
    "'pilot_personal_multiple': \"../data/experiment/jatos_results_20230110100535.txt\"\n",
    "}\n",
    "fn = result_files[prefix]\n",
    "with open(fn) as fh:\n",
    "    raw_data = [read_line(s) for s in fh]\n",
    "len(raw_data)"
   ]
  },
  {
   "cell_type": "code",
   "execution_count": null,
   "id": "3fdbd8d6-3932-4d40-a829-e869f36bd5e6",
   "metadata": {},
   "outputs": [],
   "source": [
    "Ns = [len(s) for s in raw_data]\n",
    "print(Ns)"
   ]
  },
  {
   "cell_type": "code",
   "execution_count": null,
   "id": "1ed0afbc-7516-439d-b020-d5a327e53074",
   "metadata": {},
   "outputs": [],
   "source": [
    "def bias(trials):\n",
    "    c = {g: 0 + 0j for g in ['low', 'medium', 'high']}\n",
    "    for trial in trials:\n",
    "        left, right = [os.path.basename(trial[lr]) for lr in ['left', 'right']]\n",
    "        g = re.findall(\"low|high|medium\", left)[0]\n",
    "        if left == right:\n",
    "            if trial['response'] == 'f':\n",
    "                c[g] += 1\n",
    "            else:\n",
    "                c[g] += 1j\n",
    "    return c"
   ]
  },
  {
   "cell_type": "code",
   "execution_count": null,
   "id": "e956ed50-c9cb-4f63-831a-82cf42ed7590",
   "metadata": {},
   "outputs": [],
   "source": [
    "len(trials)/3\n",
    "7/49\n",
    "240 * 7 / (7 * 7), 240 * 2 / (7 * 7 * 3)"
   ]
  },
  {
   "cell_type": "code",
   "execution_count": null,
   "id": "961e3939-7326-44be-9fc4-7829f27225a3",
   "metadata": {},
   "outputs": [],
   "source": [
    "for vp in nonempty_vp_idx(Ns, 100):\n",
    "    trials = get_trial_data(raw_data[vp])\n",
    "    b = bias(trials)\n",
    "    print(vp, b, sum(abs(v) for k, v in b.items()))\n",
    "    stimulus_set = set(get_all_stimuli(trials))\n",
    "    grouped_stimuli = {g: list(bucket(stimulus_set, lambda x: get_group(x))[g]) for g in ['low', 'medium', 'high']}\n",
    "    losswin_counts = {}\n",
    "    for g in ['low', 'high', 'medium']:\n",
    "        losswin_counts[g] = {}\n",
    "        for i in range(len(grouped_stimuli[g])):\n",
    "            p1 = grouped_stimuli[g][i]\n",
    "            for p2 in grouped_stimuli[g][(i+1):]:\n",
    "                losswin_counts[g][(p1, p2)] = [0, 0]\n",
    "\n",
    "    for trial in trials:\n",
    "        left, right = [os.path.basename(trial[lr]) for lr in ['left', 'right']]\n",
    "        if left == right:\n",
    "            continue\n",
    "        g = get_group(left)\n",
    "        idx =  0 if trial['response'] == 'f' else 1\n",
    "        try:\n",
    "            losswin_counts[g][(left, right)][idx] += 1\n",
    "        except KeyError:\n",
    "            losswin_counts[g][(right, left)][idx-1] += 1\n",
    "\n",
    "    for g in ['low', 'medium', 'high']:\n",
    "        df = pd.DataFrame(losswin_counts[g]).T\n",
    "        df = df.rename({0: \"win1\", 1: \"win2\"}, axis=1)\n",
    "        df.to_pickle(f\"../data/processed/{prefix}_vp-{vp}_g-{g}.pkl\")"
   ]
  },
  {
   "cell_type": "code",
   "execution_count": null,
   "id": "c2cbf379-b3bd-4cd2-b0ee-a652621b8326",
   "metadata": {},
   "outputs": [],
   "source": [
    "losswin_counts = {}\n",
    "for g in ['low', 'high', 'medium']:\n",
    "    losswin_counts[g] = {}\n",
    "    for i in range(len(grouped_stimuli[g])):\n",
    "        p1 = grouped_stimuli[g][i]\n",
    "        for p2 in grouped_stimuli[g][(i+1):]:\n",
    "            losswin_counts[g][(p1, p2)] = [0, 0]\n",
    "            \n",
    "for vp in nonempty_vp_idx(Ns, 100):\n",
    "    trials = get_trial_data(raw_data[vp])\n",
    "    b = bias(trials)\n",
    "    print(vp, b, sum(abs(v) for k, v in b.items()))\n",
    "    stimulus_set = set(get_all_stimuli(trials))\n",
    "    grouped_stimuli = {g: list(bucket(stimulus_set, lambda x: get_group(x))[g]) for g in ['low', 'medium', 'high']}\n",
    "\n",
    "    for trial in trials:\n",
    "        left, right = [os.path.basename(trial[lr]) for lr in ['left', 'right']]\n",
    "        if left == right:\n",
    "            continue\n",
    "        g = get_group(left)\n",
    "        idx =  0 if trial['response'] == 'f' else 1\n",
    "        try:\n",
    "            losswin_counts[g][(left, right)][idx] += 1\n",
    "        except KeyError:\n",
    "            losswin_counts[g][(right, left)][idx-1] += 1\n",
    "\n",
    "for g in ['low', 'medium', 'high']:\n",
    "    df = pd.DataFrame(losswin_counts[g]).T\n",
    "    df = df.rename({0: \"win1\", 1: \"win2\"}, axis=1)\n",
    "df.to_pickle(f\"../data/processed/pooled_{prefix}_vp-{vp}_g-{g}.pkl\")"
   ]
  },
  {
   "cell_type": "code",
   "execution_count": null,
   "id": "61a39deb-02a0-41cd-80e1-172d20b588bf",
   "metadata": {},
   "outputs": [],
   "source": [
    "df"
   ]
  }
 ],
 "metadata": {
  "kernelspec": {
   "display_name": "Python 3 (ipykernel)",
   "language": "python",
   "name": "python3"
  },
  "language_info": {
   "codemirror_mode": {
    "name": "ipython",
    "version": 3
   },
   "file_extension": ".py",
   "mimetype": "text/x-python",
   "name": "python",
   "nbconvert_exporter": "python",
   "pygments_lexer": "ipython3",
   "version": "3.9.7"
  }
 },
 "nbformat": 4,
 "nbformat_minor": 5
}
