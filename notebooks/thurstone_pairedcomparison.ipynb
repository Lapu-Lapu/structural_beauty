{
 "cells": [
  {
   "cell_type": "code",
   "execution_count": null,
   "metadata": {},
   "outputs": [],
   "source": [
    "# import pyreadr\n",
    "from glob import glob\n",
    "import json\n",
    "import pandas as pd\n",
    "from itertools import product\n",
    "import numpy as np\n",
    "from scipy.special import ndtri, ndtr\n",
    "from scipy.optimize import least_squares"
   ]
  },
  {
   "cell_type": "code",
   "execution_count": null,
   "metadata": {},
   "outputs": [],
   "source": [
    "with open(\"cems.json\", 'r') as fh:\n",
    "    data = json.load(fh)"
   ]
  },
  {
   "cell_type": "code",
   "execution_count": null,
   "metadata": {},
   "outputs": [],
   "source": [
    "preferences = data['preferences']\n",
    "df = pd.DataFrame(preferences)\n",
    "df = df[~(df == 'NA').apply(lambda row: np.any(row), axis=1)]"
   ]
  },
  {
   "cell_type": "code",
   "execution_count": null,
   "metadata": {},
   "outputs": [],
   "source": [
    "df.school1.unique()"
   ]
  },
  {
   "cell_type": "code",
   "execution_count": null,
   "metadata": {},
   "outputs": [],
   "source": [
    "df.school2.unique()"
   ]
  },
  {
   "cell_type": "code",
   "execution_count": null,
   "metadata": {},
   "outputs": [],
   "source": [
    "df[\"pair\"] = df.apply(lambda row: (row['school1'], row['school2']), axis=1)\n",
    "\n",
    "gb = df.groupby(\"pair\")\n",
    "\n",
    "tbl1 = gb[['win1', 'tied', 'win2']].sum()\n",
    "tbl1"
   ]
  },
  {
   "cell_type": "code",
   "execution_count": null,
   "metadata": {},
   "outputs": [],
   "source": [
    "data = (tbl1 + tbl1[['tied']].values/2).loc[:, ('win1', 'win2')]\n",
    "data"
   ]
  },
  {
   "cell_type": "code",
   "execution_count": null,
   "metadata": {},
   "outputs": [],
   "source": [
    "# data.apply(lambda x, y: x+y, axis=1)\n",
    "# data.win1 / (data.win1 + data.win2)\n",
    "# ['Stockholm', 'Barcelona\n",
    "\n",
    "p = dict((data.win1 / (data.win1 + data.win2)))\n",
    "p"
   ]
  },
  {
   "cell_type": "code",
   "execution_count": null,
   "metadata": {},
   "outputs": [],
   "source": [
    "school2idx = {y: x for x, y in enumerate(set(y for x in data.index for y in x))}\n",
    "def make_countmatrix(data):\n",
    "    A = np.zeros((len(school2idx), len(school2idx)))\n",
    "    for s1, s2 in data.index:\n",
    "        A[school2idx[s1], school2idx[s2]] += 1\n",
    "    return A\n",
    "\n",
    "def sort_schools(A):\n",
    "    schools_sorted = [list(school2idx)[idx] for idx in np.argsort(A.sum(axis=0))]\n",
    "    # list(reversed(schools_sorted))\n",
    "    return schools_sorted\n",
    "\n",
    "A = make_countmatrix(data)\n",
    "schools_sorted = sort_schools(A)\n",
    "rev_schools_sorted = list(reversed(schools_sorted))\n",
    "A"
   ]
  },
  {
   "cell_type": "code",
   "execution_count": null,
   "metadata": {},
   "outputs": [],
   "source": [
    "np.argsort(A.sum(axis=0))\n",
    "A.sum(axis=0)"
   ]
  },
  {
   "cell_type": "code",
   "execution_count": null,
   "metadata": {},
   "outputs": [],
   "source": [
    "schools_sorted"
   ]
  },
  {
   "cell_type": "code",
   "execution_count": null,
   "metadata": {},
   "outputs": [],
   "source": [
    "def cost(mu):\n",
    "    N = len(mu)\n",
    "    mu_1 = {schools_sorted[i]: mu[i] for i in range(N)}\n",
    "    # mu_1['Stockholm'] = 0\n",
    "    mu_1[schools_sorted[-1]] = 0\n",
    "    return np.array([(v - ndtr(mu_1[s1] - mu_1[s2]))**2 for (s1, s2), v in p.items()])"
   ]
  },
  {
   "cell_type": "code",
   "execution_count": null,
   "metadata": {},
   "outputs": [],
   "source": [
    "N = len(schools_sorted)\n",
    "np.sum(cost(np.zeros(N))), np.sum(cost(np.ones(N)))"
   ]
  },
  {
   "cell_type": "code",
   "execution_count": null,
   "metadata": {},
   "outputs": [],
   "source": [
    "def sigmoid(x):\n",
    "    return 1 / (1 + np.exp(-x))\n",
    "\n",
    "def logit(y):\n",
    "    return -np.log((1 - y) / y)\n",
    "\n",
    "def compute_p(data):\n",
    "    return (data.win1 + 1) / (data.win1 + data.win2 + 2)\n",
    "\n",
    "def compute_mu(data, F=ndtri):\n",
    "    mu = {}\n",
    "    for (s1, s2), p in compute_p(data).items():\n",
    "        if s2 == schools_sorted[-1]:\n",
    "            mu[s1] = F(p)\n",
    "    return mu\n",
    "\n",
    "def to_np(d):\n",
    "    return np.array([d[city] for city in schools_sorted[:-1]])"
   ]
  },
  {
   "cell_type": "code",
   "execution_count": null,
   "metadata": {},
   "outputs": [],
   "source": [
    "compute_mu(data)\n",
    "# p"
   ]
  },
  {
   "cell_type": "code",
   "execution_count": null,
   "metadata": {},
   "outputs": [],
   "source": [
    "np.sum(cost(to_np(compute_mu(data))))"
   ]
  },
  {
   "cell_type": "code",
   "execution_count": null,
   "metadata": {},
   "outputs": [],
   "source": [
    "mu = {city: [] for city in school2idx}\n",
    "mu[schools_sorted[-1]] = [0]\n",
    "\n",
    "for city in rev_schools_sorted:\n",
    "    table = p.copy()\n",
    "    for (s1, s2), value in table.items():\n",
    "        if s2 == city:\n",
    "            # p_ij = F(mu_i - mu_j)\n",
    "            # mu_i = Fi(p_ij) + mu_j\n",
    "            mu[s1].append(ndtri(value) + mu[city][-1])\n",
    "#             mu[s1].append(value)"
   ]
  },
  {
   "cell_type": "code",
   "execution_count": null,
   "metadata": {},
   "outputs": [],
   "source": [
    "mu"
   ]
  },
  {
   "cell_type": "code",
   "execution_count": null,
   "metadata": {},
   "outputs": [],
   "source": [
    "mu_1 = {l: np.mean(m) for l, m in mu.items()}\n",
    "# mu\n",
    "# ndtri(0.7511551155)\n",
    "mu_1"
   ]
  },
  {
   "cell_type": "code",
   "execution_count": null,
   "metadata": {},
   "outputs": [],
   "source": [
    "np.sum(cost(to_np(mu_1)))"
   ]
  },
  {
   "cell_type": "code",
   "execution_count": null,
   "metadata": {
    "tags": []
   },
   "outputs": [],
   "source": [
    "optimized_mu = least_squares(cost, to_np(mu_1)).x\n",
    "# optimized_mu = least_squares(cost, np.zeros(5)).x\n",
    "# least_squares(cost, np.zeros(5))\n",
    "# least_squares(cost, to_np(mu_1))"
   ]
  },
  {
   "cell_type": "code",
   "execution_count": null,
   "metadata": {},
   "outputs": [],
   "source": [
    "{city: optimized_mu[i] for i, city in enumerate(schools_sorted[:-1])}"
   ]
  },
  {
   "cell_type": "code",
   "execution_count": null,
   "metadata": {},
   "outputs": [],
   "source": [
    "import pandas as pd"
   ]
  },
  {
   "cell_type": "code",
   "execution_count": null,
   "metadata": {},
   "outputs": [],
   "source": [
    "data = pd.read_pickle('exp_processed.pkl')\n",
    "data"
   ]
  },
  {
   "cell_type": "code",
   "execution_count": null,
   "metadata": {},
   "outputs": [],
   "source": [
    "p = dict((data.win1 / (data.win1 + data.win2)))\n",
    "p = dict(compute_p(data))\n",
    "p = dict(filter(lambda x: ~np.isnan(x[1]), p.items()))\n",
    "p"
   ]
  },
  {
   "cell_type": "code",
   "execution_count": null,
   "metadata": {},
   "outputs": [],
   "source": [
    "import jax\n",
    "import jax.numpy as np"
   ]
  },
  {
   "cell_type": "code",
   "execution_count": null,
   "metadata": {},
   "outputs": [],
   "source": [
    "# least_squares(cost, to_np(mu_1), jac=jax.jacfwd(jax.grad(cost)))"
   ]
  },
  {
   "cell_type": "code",
   "execution_count": null,
   "metadata": {},
   "outputs": [],
   "source": []
  },
  {
   "cell_type": "code",
   "execution_count": null,
   "metadata": {},
   "outputs": [],
   "source": [
    "[(v - ndtr(mu_1[s1] - mu_1[s2]))**2 for (s1, s2), v in p.items()]"
   ]
  },
  {
   "cell_type": "code",
   "execution_count": null,
   "metadata": {},
   "outputs": [],
   "source": [
    "# cost(np.array(mu_1.values()))\n",
    "cost(np.array(list(mu_1.values())))\n",
    "np.array(list(mu_1.values()))"
   ]
  },
  {
   "cell_type": "code",
   "execution_count": null,
   "metadata": {},
   "outputs": [],
   "source": [
    "mu_1"
   ]
  },
  {
   "cell_type": "code",
   "execution_count": null,
   "metadata": {},
   "outputs": [],
   "source": [
    "school2idx"
   ]
  },
  {
   "cell_type": "code",
   "execution_count": null,
   "metadata": {},
   "outputs": [],
   "source": [
    "mu = compute_mu(data, ndtri)\n",
    "mu"
   ]
  },
  {
   "cell_type": "code",
   "execution_count": null,
   "metadata": {},
   "outputs": [],
   "source": [
    "logit(0.635314)\n",
    "0.33 / 0.34\n",
    "0.99 / 1.064"
   ]
  },
  {
   "cell_type": "code",
   "execution_count": null,
   "metadata": {},
   "outputs": [],
   "source": [
    "mu = pd.Series(mu)"
   ]
  },
  {
   "cell_type": "code",
   "execution_count": null,
   "metadata": {},
   "outputs": [],
   "source": [
    "mu / sum(mu)"
   ]
  },
  {
   "cell_type": "code",
   "execution_count": null,
   "metadata": {},
   "outputs": [],
   "source": [
    "ndtr(0.982 - 0.561)\n",
    "ndtr(mu['London'] - mu['Paris'])"
   ]
  },
  {
   "cell_type": "code",
   "execution_count": null,
   "metadata": {},
   "outputs": [],
   "source": []
  }
 ],
 "metadata": {
  "kernelspec": {
   "display_name": "beauty",
   "language": "python",
   "name": "beauty"
  },
  "language_info": {
   "codemirror_mode": {
    "name": "ipython",
    "version": 3
   },
   "file_extension": ".py",
   "mimetype": "text/x-python",
   "name": "python",
   "nbconvert_exporter": "python",
   "pygments_lexer": "ipython3",
   "version": "3.10.8"
  }
 },
 "nbformat": 4,
 "nbformat_minor": 5
}
