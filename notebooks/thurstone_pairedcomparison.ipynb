{
 "cells": [
  {
   "cell_type": "code",
   "execution_count": null,
   "id": "084aa5fb",
   "metadata": {},
   "outputs": [],
   "source": [
    "# import pyreadr\n",
    "from glob import glob\n",
    "import json\n",
    "import pandas as pd\n",
    "from itertools import product\n",
    "import numpy as np\n",
    "from scipy.special import ndtri, ndtr\n",
    "from scipy.optimize import least_squares"
   ]
  },
  {
   "cell_type": "code",
   "execution_count": null,
   "id": "697e594f",
   "metadata": {},
   "outputs": [],
   "source": [
    "with open(\"cems.json\", 'r') as fh:\n",
    "    data = json.load(fh)"
   ]
  },
  {
   "cell_type": "code",
   "execution_count": null,
   "id": "9cb0944a",
   "metadata": {},
   "outputs": [],
   "source": [
    "preferences = data['preferences']\n",
    "df = pd.DataFrame(preferences)\n",
    "df = df[~(df == 'NA').apply(lambda row: np.any(row), axis=1)]"
   ]
  },
  {
   "cell_type": "code",
   "execution_count": null,
   "id": "b25eebf3",
   "metadata": {},
   "outputs": [],
   "source": [
    "df.school1.unique()"
   ]
  },
  {
   "cell_type": "code",
   "execution_count": null,
   "id": "a6db5a59",
   "metadata": {},
   "outputs": [],
   "source": [
    "df.school2.unique()"
   ]
  },
  {
   "cell_type": "code",
   "execution_count": null,
   "id": "f17cb9c5",
   "metadata": {},
   "outputs": [],
   "source": [
    "df[\"pair\"] = df.apply(lambda row: (row['school1'], row['school2']), axis=1)\n",
    "\n",
    "gb = df.groupby(\"pair\")\n",
    "\n",
    "tbl1 = gb[['win1', 'tied', 'win2']].sum()\n",
    "tbl1"
   ]
  },
  {
   "cell_type": "code",
   "execution_count": null,
   "id": "5d3958fa",
   "metadata": {},
   "outputs": [],
   "source": [
    "data = (tbl1 + tbl1[['tied']].values/2).loc[:, ('win1', 'win2')]\n",
    "data"
   ]
  },
  {
   "cell_type": "code",
   "execution_count": null,
   "id": "e4c1b387",
   "metadata": {},
   "outputs": [],
   "source": [
    "# data.apply(lambda x, y: x+y, axis=1)\n",
    "# data.win1 / (data.win1 + data.win2)\n",
    "# ['Stockholm', 'Barcelona\n",
    "\n",
    "p = dict((data.win1 / (data.win1 + data.win2)))\n",
    "p"
   ]
  },
  {
   "cell_type": "code",
   "execution_count": null,
   "id": "afd7e177",
   "metadata": {},
   "outputs": [],
   "source": [
    "def make_countmatrix(data):\n",
    "    A = np.zeros((len(school2idx), len(school2idx)))\n",
    "    for s1, s2 in data.index:\n",
    "        A[school2idx[s1], school2idx[s2]] += 1\n",
    "    return A\n",
    "\n",
    "def sort_schools(A, axis=0):\n",
    "    schools_sorted = [list(school2idx)[idx] for idx in np.argsort(A.sum(axis=axis))]\n",
    "    # list(reversed(schools_sorted))\n",
    "    return schools_sorted"
   ]
  },
  {
   "cell_type": "code",
   "execution_count": null,
   "id": "796dbc35",
   "metadata": {},
   "outputs": [],
   "source": [
    "def sigmoid(x):\n",
    "    return 1 / (1 + np.exp(-x))\n",
    "\n",
    "def logit(y):\n",
    "    return -np.log((1 - y) / y)\n",
    "\n",
    "def compute_p(data):\n",
    "    return (data.win1 + 1) / (data.win1 + data.win2 + 2)\n",
    "\n",
    "def compute_mu(data, F=ndtri):\n",
    "    mu = {}\n",
    "    for (s1, s2), p in compute_p(data).items():\n",
    "        if s2 == schools_sorted[-1]:\n",
    "            mu[s1] = F(p)\n",
    "    return mu\n",
    "\n",
    "def to_np(d):\n",
    "    return np.array([d[city] for city in schools_sorted[:-1]])"
   ]
  },
  {
   "cell_type": "code",
   "execution_count": null,
   "id": "b8bd8cf2",
   "metadata": {},
   "outputs": [],
   "source": [
    "school2idx = {y: x for x, y in enumerate(set(y for x in data.index for y in x))}"
   ]
  },
  {
   "cell_type": "code",
   "execution_count": null,
   "id": "2b610ed7",
   "metadata": {},
   "outputs": [],
   "source": [
    "A = make_countmatrix(data)\n",
    "schools_sorted = sort_schools(A, 0)\n",
    "rev_schools_sorted = list(reversed(schools_sorted))"
   ]
  },
  {
   "cell_type": "code",
   "execution_count": null,
   "id": "82e7372c",
   "metadata": {},
   "outputs": [],
   "source": [
    "schools_sorted"
   ]
  },
  {
   "cell_type": "code",
   "execution_count": null,
   "id": "ffeb1bdd",
   "metadata": {},
   "outputs": [],
   "source": [
    "def cost(mu):\n",
    "    N = len(mu)\n",
    "    mu_1 = {schools_sorted[i]: mu[i] for i in range(N)}\n",
    "    mu_1[schools_sorted[-1]] = 0\n",
    "    return np.array([(v - ndtr(mu_1[s1] - mu_1[s2]))**2 for (s1, s2), v in p.items()])"
   ]
  },
  {
   "cell_type": "code",
   "execution_count": null,
   "id": "5a6028b7",
   "metadata": {},
   "outputs": [],
   "source": [
    "N = len(schools_sorted)\n",
    "np.sum(cost(np.zeros(N))), np.sum(cost(np.ones(N)))"
   ]
  },
  {
   "cell_type": "code",
   "execution_count": null,
   "id": "9e0669ce",
   "metadata": {},
   "outputs": [],
   "source": [
    "compute_mu(data)\n",
    "# p"
   ]
  },
  {
   "cell_type": "code",
   "execution_count": null,
   "id": "229ad982",
   "metadata": {},
   "outputs": [],
   "source": [
    "np.sum(cost(to_np(compute_mu(data))))"
   ]
  },
  {
   "cell_type": "code",
   "execution_count": null,
   "id": "e1360fd0",
   "metadata": {},
   "outputs": [],
   "source": [
    "mu = {city: [] for city in school2idx}\n",
    "mu[schools_sorted[-1]] = [0]\n",
    "\n",
    "for city in rev_schools_sorted:\n",
    "    table = p.copy()\n",
    "    for (s1, s2), value in table.items():\n",
    "        if s2 == city:\n",
    "            # p_ij = F(mu_i - mu_j)\n",
    "            # mu_i = Fi(p_ij) + mu_j\n",
    "            mu[s1].append(ndtri(value) + mu[city][-1])\n",
    "#             mu[s1].append(value)"
   ]
  },
  {
   "cell_type": "code",
   "execution_count": null,
   "id": "a6a2efaf",
   "metadata": {},
   "outputs": [],
   "source": [
    "mu"
   ]
  },
  {
   "cell_type": "code",
   "execution_count": null,
   "id": "2b911f86",
   "metadata": {},
   "outputs": [],
   "source": [
    "mu_1 = {l: np.mean(m) for l, m in mu.items()}\n",
    "# mu\n",
    "# ndtri(0.7511551155)\n",
    "mu_1"
   ]
  },
  {
   "cell_type": "code",
   "execution_count": null,
   "id": "da8c3135",
   "metadata": {},
   "outputs": [],
   "source": [
    "np.sum(cost(to_np(mu_1)))"
   ]
  },
  {
   "cell_type": "code",
   "execution_count": null,
   "id": "71a34185",
   "metadata": {
    "tags": []
   },
   "outputs": [],
   "source": [
    "optimized_mu = least_squares(cost, to_np(mu_1)).x\n",
    "optimized_mu = least_squares(cost, np.zeros(N)).x\n",
    "# least_squares(cost, np.zeros(5))\n",
    "# least_squares(cost, to_np(mu_1))"
   ]
  },
  {
   "cell_type": "code",
   "execution_count": null,
   "id": "97114806",
   "metadata": {},
   "outputs": [],
   "source": [
    "{city: optimized_mu[i] for i, city in enumerate(schools_sorted[:-1])}"
   ]
  },
  {
   "cell_type": "code",
   "execution_count": null,
   "id": "eaf72e7a",
   "metadata": {},
   "outputs": [],
   "source": [
    "import pandas as pd\n",
    "20 * 60 / 5 / 3"
   ]
  },
  {
   "cell_type": "code",
   "execution_count": null,
   "id": "885154ce",
   "metadata": {},
   "outputs": [],
   "source": [
    "import matplotlib.pyplot as plt\n",
    "import json\n",
    "\n",
    "data_dir = '../data/processed/'\n",
    "with open(data_dir + 'stimulus_wr.json') as fh:\n",
    "    stimulus_wr = json.load(fh)\n",
    "\n",
    "for vp in [0, 1, 2, 4]:\n",
    "    for g in ['low', 'medium', 'high']:\n",
    "        name = data_dir + f'exp_processed_vp-{vp}_g-{g}.pkl'\n",
    "        data = pd.read_pickle(name)\n",
    "\n",
    "        p = dict((data.win1 / (data.win1 + data.win2)))\n",
    "        p = dict(compute_p(data))\n",
    "        p = dict(filter(lambda x: ~np.isnan(x[1]), p.items()))\n",
    "\n",
    "        school2idx = {y: x for x, y in enumerate(set(y for x in data.index for y in x))}\n",
    "        A = make_countmatrix(data)\n",
    "        schools_sorted = sort_schools(A, 0)\n",
    "        # rev_schools_sorted = list(reversed(schools_sorted))\n",
    "\n",
    "        # optimized_mu = least_squares(cost, to_np(mu_1)).x\n",
    "        optimized_mu = least_squares(cost, np.zeros(N)).x\n",
    "        score = {city: optimized_mu[i] for i, city in enumerate(schools_sorted[:-1])}\n",
    "        score[schools_sorted[-1]] = 0\n",
    "\n",
    "        # plt.plot([stimulus_wr[key] for key in score], score.values(), 'x')\n",
    "        plt.title(name)\n",
    "        for key, value in score.items():\n",
    "            plt.plot(stimulus_wr[key], value, 'x', label=key)\n",
    "        plt.legend()\n",
    "        plt.show()"
   ]
  },
  {
   "cell_type": "code",
   "execution_count": null,
   "id": "bec82763",
   "metadata": {},
   "outputs": [],
   "source": [
    "import jax\n",
    "import jax.numpy as np"
   ]
  },
  {
   "cell_type": "code",
   "execution_count": null,
   "id": "6054665c",
   "metadata": {},
   "outputs": [],
   "source": [
    "# least_squares(cost, to_np(mu_1), jac=jax.jacfwd(jax.grad(cost)))"
   ]
  },
  {
   "cell_type": "code",
   "execution_count": null,
   "id": "93577693",
   "metadata": {},
   "outputs": [],
   "source": []
  },
  {
   "cell_type": "code",
   "execution_count": null,
   "id": "2417f739",
   "metadata": {},
   "outputs": [],
   "source": [
    "[(v - ndtr(mu_1[s1] - mu_1[s2]))**2 for (s1, s2), v in p.items()]"
   ]
  },
  {
   "cell_type": "code",
   "execution_count": null,
   "id": "2da6e651",
   "metadata": {},
   "outputs": [],
   "source": [
    "# cost(np.array(mu_1.values()))\n",
    "cost(np.array(list(mu_1.values())))\n",
    "np.array(list(mu_1.values()))"
   ]
  },
  {
   "cell_type": "code",
   "execution_count": null,
   "id": "53f8b15e",
   "metadata": {},
   "outputs": [],
   "source": [
    "mu_1"
   ]
  },
  {
   "cell_type": "code",
   "execution_count": null,
   "id": "ac9c169c",
   "metadata": {},
   "outputs": [],
   "source": [
    "school2idx"
   ]
  },
  {
   "cell_type": "code",
   "execution_count": null,
   "id": "68ce3c04",
   "metadata": {},
   "outputs": [],
   "source": [
    "mu = compute_mu(data, ndtri)\n",
    "mu"
   ]
  },
  {
   "cell_type": "code",
   "execution_count": null,
   "id": "cb32b747",
   "metadata": {},
   "outputs": [],
   "source": [
    "logit(0.635314)\n",
    "0.33 / 0.34\n",
    "0.99 / 1.064"
   ]
  },
  {
   "cell_type": "code",
   "execution_count": null,
   "id": "1a45a39c",
   "metadata": {},
   "outputs": [],
   "source": [
    "mu = pd.Series(mu)"
   ]
  },
  {
   "cell_type": "code",
   "execution_count": null,
   "id": "7653f5e0",
   "metadata": {},
   "outputs": [],
   "source": [
    "mu / sum(mu)"
   ]
  },
  {
   "cell_type": "code",
   "execution_count": null,
   "id": "07808083",
   "metadata": {},
   "outputs": [],
   "source": [
    "ndtr(0.982 - 0.561)\n",
    "ndtr(mu['London'] - mu['Paris'])"
   ]
  },
  {
   "cell_type": "code",
   "execution_count": null,
   "id": "c693c6fc",
   "metadata": {},
   "outputs": [],
   "source": []
  }
 ],
 "metadata": {
  "kernelspec": {
   "display_name": "eyetracking_paper2",
   "language": "python",
   "name": "eyetracking_paper2"
  },
  "language_info": {
   "codemirror_mode": {
    "name": "ipython",
    "version": 3
   },
   "file_extension": ".py",
   "mimetype": "text/x-python",
   "name": "python",
   "nbconvert_exporter": "python",
   "pygments_lexer": "ipython3",
   "version": "3.10.4"
  }
 },
 "nbformat": 4,
 "nbformat_minor": 5
}
