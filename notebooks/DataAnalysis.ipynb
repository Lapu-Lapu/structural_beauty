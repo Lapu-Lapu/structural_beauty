{
 "cells": [
  {
   "cell_type": "code",
   "execution_count": null,
   "id": "084aa5fb",
   "metadata": {},
   "outputs": [],
   "source": [
    "from glob import glob\n",
    "import json\n",
    "import pandas as pd\n",
    "from itertools import product\n",
    "import numpy as np\n",
    "from scipy.optimize import least_squares\n",
    "from functools import partial"
   ]
  },
  {
   "cell_type": "code",
   "execution_count": null,
   "id": "cae18cf9-1b6f-440d-9143-0a8696997fd1",
   "metadata": {},
   "outputs": [],
   "source": [
    "from utils import make_countmatrix, sort_schools, sigmoid, logit, compute_p, compute_mu, to_np, cost"
   ]
  },
  {
   "cell_type": "code",
   "execution_count": null,
   "id": "885154ce",
   "metadata": {},
   "outputs": [],
   "source": [
    "import matplotlib.pyplot as plt\n",
    "import json\n",
    "\n",
    "data_dir = '../data/processed/'\n",
    "with open(data_dir + 'stimulus_wr.json') as fh:\n",
    "    stimulus_wr = json.load(fh)\n",
    "\n",
    "for vp in [0, 1, 2, 4]:\n",
    "    for g in ['low', 'medium', 'high']:\n",
    "        name = data_dir + f'exp_processed_vp-{vp}_g-{g}.pkl'\n",
    "        data = pd.read_pickle(name)\n",
    "\n",
    "        p = dict((data.win1 / (data.win1 + data.win2)))\n",
    "        p = dict(compute_p(data))\n",
    "        p = dict(filter(lambda x: ~np.isnan(x[1]), p.items()))\n",
    "\n",
    "        school2idx = {y: x for x, y in enumerate(set(y for x in data.index for y in x))}\n",
    "        A = make_countmatrix(data, school2idx)\n",
    "        schools_sorted = sort_schools(A, school2idx)\n",
    "        # rev_schools_sorted = list(reversed(schools_sorted))\n",
    "\n",
    "        # optimized_mu = least_squares(cost, to_np(mu_1)).x\n",
    "        N = len(schools_sorted)\n",
    "        f = partial(cost, schools_sorted, p)\n",
    "        optimized_mu = least_squares(f, np.zeros(N)).x\n",
    "        score = {city: optimized_mu[i] for i, city in enumerate(schools_sorted[:-1])}\n",
    "        score[schools_sorted[-1]] = 0\n",
    "\n",
    "        # plt.plot([stimulus_wr[key] for key in score], score.values(), 'x')\n",
    "        plt.title(name)\n",
    "        for key, value in score.items():\n",
    "            plt.plot(stimulus_wr[key], value, 'x', label=key)\n",
    "        plt.legend()\n",
    "        plt.show()"
   ]
  }
 ],
 "metadata": {
  "kernelspec": {
   "display_name": "eyetracking_paper2",
   "language": "python",
   "name": "eyetracking_paper2"
  },
  "language_info": {
   "codemirror_mode": {
    "name": "ipython",
    "version": 3
   },
   "file_extension": ".py",
   "mimetype": "text/x-python",
   "name": "python",
   "nbconvert_exporter": "python",
   "pygments_lexer": "ipython3",
   "version": "3.10.4"
  }
 },
 "nbformat": 4,
 "nbformat_minor": 5
}
