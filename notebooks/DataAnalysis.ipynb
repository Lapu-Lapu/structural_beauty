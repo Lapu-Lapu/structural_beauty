{
 "cells": [
  {
   "cell_type": "code",
   "execution_count": null,
   "id": "0beab2a0-5536-4e82-ba42-86948669e419",
   "metadata": {},
   "outputs": [],
   "source": [
    "from glob import glob\n",
    "import json\n",
    "import pandas as pd\n",
    "from itertools import product\n",
    "import numpy as np\n",
    "from scipy.optimize import least_squares\n",
    "from functools import partial\n",
    "\n",
    "from utils import make_countmatrix, sort_schools, sigmoid, logit, compute_p, compute_mu, to_np, cost\n",
    "\n",
    "import matplotlib.pyplot as plt\n",
    "import json\n",
    "from glob import glob\n",
    "import re\n",
    "from IPython.display import display"
   ]
  },
  {
   "cell_type": "code",
   "execution_count": null,
   "id": "efe260f9-786a-41fc-ad3c-4434689b6aff",
   "metadata": {},
   "outputs": [],
   "source": [
    "prefix = 'pilot_general_multiple'\n",
    "prefix = 'second_pilot'\n",
    "# prefix = 'pilot_personal_multiple'\n",
    "data_dir = '../data/processed/'\n",
    "vps = set(int(re.findall(\"\\d+\", l)[0]) for l in glob(data_dir+prefix+\"*\"))\n",
    "print(vps)"
   ]
  },
  {
   "cell_type": "code",
   "execution_count": null,
   "id": "9596dba1-943a-414d-aeef-034443dbfcf4",
   "metadata": {},
   "outputs": [],
   "source": [
    "def parabola(x, w):\n",
    "    return w[0] + w[1] * x + w[2] * x**2\n",
    "\n",
    "def pcost(data, w):\n",
    "    return sum((parabola(d[0], w) - d[1])**2 for d in data)"
   ]
  },
  {
   "cell_type": "code",
   "execution_count": null,
   "id": "cc0f383d-efd9-4587-8b61-7477b9356ef3",
   "metadata": {},
   "outputs": [],
   "source": []
  },
  {
   "cell_type": "code",
   "execution_count": null,
   "id": "153f1930-3ba8-4dff-b841-c6e46d7c9b23",
   "metadata": {},
   "outputs": [],
   "source": [
    "# points = [(stimulus_wr[k], v) for k, v in score.items()]\n",
    "# w = least_squares(partial(pcost, points), [0, 0, 0]).x\n",
    "# X = np.linspace(-1, 1)\n",
    "# points = [(x, parabola(x, (0.1, -0.1, 3))) for x in X]\n",
    "# w = least_squares(partial(pcost, points), [0, 0, 0]).x\n",
    "# w\n",
    "# y = np.array(p"
   ]
  },
  {
   "cell_type": "code",
   "execution_count": null,
   "id": "ea1c11a8-ad56-47c3-a789-a77e34dc9187",
   "metadata": {},
   "outputs": [],
   "source": [
    "# X = np.array([p[1] for p in points])\n",
    "# A = np.vstack([np.ones(len(X)), X, X**2]).T\n",
    "# w = np.linalg.lstsq(A, [p[1] for p in points])[0]\n",
    "# w"
   ]
  },
  {
   "cell_type": "code",
   "execution_count": null,
   "id": "511c2a46-2b7b-426c-bf2e-184b5ae85808",
   "metadata": {},
   "outputs": [],
   "source": [
    "with open(data_dir + 'stimulus_wr.json') as fh:\n",
    "    stimulus_wr = json.load(fh)\n",
    "\n",
    "g2c = {\n",
    "    'low': 'red',\n",
    "    'medium': 'blue',\n",
    "    'high': 'green'\n",
    "}\n",
    "\n",
    "avg_wr = {f: stimulus_wr[f'avgimg_wr_{f}.png'] for f in g2c.keys()}\n",
    "\n",
    "for vp in vps:\n",
    "    for g in ['low', 'medium', 'high']:\n",
    "        plt.vlines(avg_wr[g], -0.5, 0.5, color=g2c[g])\n",
    "        name = data_dir + f'{prefix}_vp-{vp}_g-{g}.pkl'\n",
    "        data = pd.read_pickle(name)\n",
    "        display(data)\n",
    "        print((data.win1 + data.win2).mean())\n",
    "\n",
    "        p = dict((data.win1 / (data.win1 + data.win2)))\n",
    "        p = dict(compute_p(data))\n",
    "        p = dict(filter(lambda x: ~np.isnan(x[1]), p.items()))\n",
    "\n",
    "        school2idx = {y: x for x, y in enumerate(set(y for x in data.index for y in x))}\n",
    "        A = make_countmatrix(data, school2idx)\n",
    "        schools_sorted = sort_schools(A, school2idx)\n",
    "        # rev_schools_sorted = list(reversed(schools_sorted))\n",
    "\n",
    "        # optimized_mu = least_squares(cost, to_np(mu_1)).x\n",
    "        N = len(schools_sorted)\n",
    "        f = partial(cost, schools_sorted, p)\n",
    "        optimized_mu = least_squares(f, np.zeros(N)).x\n",
    "        score = {city: optimized_mu[i] for i, city in enumerate(schools_sorted[:-1])}\n",
    "        score[schools_sorted[-1]] = 0\n",
    "        \n",
    "        points = [(stimulus_wr[k], v) for k, v in score.items()]\n",
    "        print(points)\n",
    "        # w = least_squares(partial(pcost, points), [0, 0, 0]).x\n",
    "        X = np.array([p[0] for p in points])\n",
    "        A = np.vstack([np.ones(len(X)), X, X**2]).T\n",
    "        w = np.linalg.lstsq(A, [p[1] for p in points])[0]\n",
    "        x = np.linspace(0.43, 0.49)\n",
    "        y = parabola(x, w)\n",
    "        plt.plot(x, y, color=g2c[g])\n",
    "\n",
    "        # plt.plot([stimulus_wr[key] for key in score], score.values(), 'x')\n",
    "        plt.title(name)\n",
    "        for key, value in score.items():\n",
    "            label = key\n",
    "            label = None\n",
    "            plt.plot(stimulus_wr[key], value, 'x', label=label, color=g2c[g])\n",
    "        plt.legend()\n",
    "    plt.show()"
   ]
  },
  {
   "cell_type": "code",
   "execution_count": null,
   "id": "b16f41ae-ccf8-4e08-9247-09c7ed61a25d",
   "metadata": {},
   "outputs": [],
   "source": [
    "display(data)\n",
    "print((data.win1 + data.win2).mean())"
   ]
  },
  {
   "cell_type": "code",
   "execution_count": null,
   "id": "f5fb584e-c76e-4a71-bce0-b82475538010",
   "metadata": {},
   "outputs": [],
   "source": [
    "p"
   ]
  },
  {
   "cell_type": "code",
   "execution_count": null,
   "id": "c7e7729a-8614-4013-aba2-2966ab514e65",
   "metadata": {},
   "outputs": [],
   "source": [
    "for g in ['low', 'medium', 'high']:\n",
    "    plt.vlines(avg_wr[g], -1.5, 1.0, ls='--', color=g2c[g], alpha=0.5)\n",
    "    name = data_dir + f'pooled_{prefix}_g-{g}.pkl'\n",
    "    data = pd.read_pickle(name)\n",
    "    display(data)\n",
    "    print((data.win1 + data.win2).mean())\n",
    "\n",
    "    p = dict((data.win1 / (data.win1 + data.win2)))\n",
    "    p = dict(compute_p(data))\n",
    "    p = dict(filter(lambda x: ~np.isnan(x[1]), p.items()))\n",
    "\n",
    "    school2idx = {y: x for x, y in enumerate(set(y for x in data.index for y in x))}\n",
    "    A = make_countmatrix(data, school2idx)\n",
    "    schools_sorted = sort_schools(A, school2idx)\n",
    "    # rev_schools_sorted = list(reversed(schools_sorted))\n",
    "\n",
    "    # optimized_mu = least_squares(cost, to_np(mu_1)).x\n",
    "    N = len(schools_sorted)\n",
    "    f = partial(cost, schools_sorted, p)\n",
    "    optimized_mu = least_squares(f, np.zeros(N)).x\n",
    "    score = {city: optimized_mu[i] for i, city in enumerate(schools_sorted[:-1])}\n",
    "    score[schools_sorted[-1]] = 0\n",
    "\n",
    "    points = [(stimulus_wr[k], v) for k, v in score.items()]\n",
    "    print(points)\n",
    "    # w = least_squares(partial(pcost, points), [0, 0, 0]).x\n",
    "    X = np.array([p[0] for p in points])\n",
    "    A = np.vstack([np.ones(len(X)), X, X**2]).T\n",
    "    w = np.linalg.lstsq(A, [p[1] for p in points])[0]\n",
    "    x = np.linspace(0.43, 0.49)\n",
    "    y = parabola(x, w)\n",
    "    plt.plot(x, y, color=g2c[g])\n",
    "\n",
    "    # plt.plot([stimulus_wr[key] for key in score], score.values(), 'x')\n",
    "    for key, value in score.items():\n",
    "        label = key\n",
    "        label = None\n",
    "        plt.plot(stimulus_wr[key], value, 'x', label=label, color=g2c[g])\n",
    "# plt.legend()\n",
    "plt.title('pooled')\n",
    "plt.savefig('pooled_3vp_pilot.pdf')\n",
    "plt.show()"
   ]
  },
  {
   "cell_type": "code",
   "execution_count": null,
   "id": "17089416-8cc3-42a1-b8af-704556625b9c",
   "metadata": {},
   "outputs": [],
   "source": [
    "data.to_excel('pooled_data.xlsx')"
   ]
  }
 ],
 "metadata": {
  "kernelspec": {
   "display_name": "eyetracking_paper2",
   "language": "python",
   "name": "eyetracking_paper2"
  },
  "language_info": {
   "codemirror_mode": {
    "name": "ipython",
    "version": 3
   },
   "file_extension": ".py",
   "mimetype": "text/x-python",
   "name": "python",
   "nbconvert_exporter": "python",
   "pygments_lexer": "ipython3",
   "version": "3.10.4"
  }
 },
 "nbformat": 4,
 "nbformat_minor": 5
}
