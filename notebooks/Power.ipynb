{
 "cells": [
  {
   "cell_type": "markdown",
   "id": "60fdb245-1ad4-428b-8b40-2301c61cae97",
   "metadata": {},
   "source": [
    "# Wieviele Trials brauchen wir?\n",
    "\n",
    "Die Aussage die wir untersuchen:\n",
    "\n",
    "\"Gibt es ein 'goldenes Breitenverhältnis' (WR) von Gesichtern?\"\n",
    "\n",
    "Dazu manipulieren wir WR und schauen welches der resultierenden Gesichter als am schönsten wahrgenommen wird.\n",
    "\n",
    "Es wurde gefunden, dass dieses WR dem Durchschnittswert aller Gesichter entspricht."
   ]
  },
  {
   "cell_type": "markdown",
   "id": "a77e4361-40f7-46e6-a374-c4b3a35b047c",
   "metadata": {},
   "source": [
    "# Plan\n",
    "\n",
    "- sampling procedure schreiben\n",
    "- daten generieren\n",
    "- thurstone testen\n",
    "- data preprocessing\n",
    "- experiment verfeinern"
   ]
  }
 ],
 "metadata": {
  "kernelspec": {
   "display_name": "Python 3",
   "language": "python",
   "name": "python3"
  },
  "language_info": {
   "codemirror_mode": {
    "name": "ipython",
    "version": 3
   },
   "file_extension": ".py",
   "mimetype": "text/x-python",
   "name": "python",
   "nbconvert_exporter": "python",
   "pygments_lexer": "ipython3",
   "version": "3.8.0"
  }
 },
 "nbformat": 4,
 "nbformat_minor": 5
}
