{
 "cells": [
  {
   "cell_type": "code",
   "execution_count": null,
   "metadata": {},
   "outputs": [],
   "source": [
    "import cv2\n",
    "import mediapipe as mp\n",
    "mp_drawing = mp.solutions.drawing_utils\n",
    "mp_drawing_styles = mp.solutions.drawing_styles\n",
    "mp_face_mesh = mp.solutions.face_mesh\n",
    "\n",
    "from glob import glob\n",
    "import re\n",
    "\n",
    "import matplotlib.pyplot as plt\n",
    "from utils import compute_w_ratio, draw, get_points\n",
    "from os.path import basename\n",
    "import json"
   ]
  },
  {
   "cell_type": "code",
   "execution_count": null,
   "metadata": {},
   "outputs": [],
   "source": [
    "def parse(s):\n",
    "    for w in ['high', 'medium', 'low']:\n",
    "        if s.split('/')[-1] == f'avgimg_wr_{w}.png':\n",
    "            return w, 0\n",
    "    w, m = re.findall(r\".*(low|medium|high)_\\((.\\d+)\\).png$\", s)[0]\n",
    "    return w, int(m)"
   ]
  },
  {
   "cell_type": "code",
   "execution_count": null,
   "metadata": {},
   "outputs": [],
   "source": [
    "IMAGE_FILES = glob('../data/human-in-the-loop/stimuli/*/*.png')\n",
    "meshs = {}\n",
    "drawing_spec = mp_drawing.DrawingSpec(thickness=1, circle_radius=1)\n",
    "with mp_face_mesh.FaceMesh(\n",
    "    static_image_mode=True,\n",
    "    max_num_faces=1,\n",
    "    refine_landmarks=True,\n",
    "    min_detection_confidence=0.5) as face_mesh:\n",
    "      for idx, file in enumerate(IMAGE_FILES):\n",
    "            print(file, end='.')\n",
    "            image = cv2.imread(file)\n",
    "            # Convert the BGR image to RGB before processing.\n",
    "            results = face_mesh.process(cv2.cvtColor(image, cv2.COLOR_BGR2RGB))\n",
    "            t = parse(file)\n",
    "            meshs[t] = results\n",
    "\n",
    "            # Print and draw face mesh landmarks on the image.\n",
    "            if not results.multi_face_landmarks:\n",
    "                  continue"
   ]
  },
  {
   "cell_type": "code",
   "execution_count": null,
   "metadata": {},
   "outputs": [],
   "source": [
    "with open('../data/processed/stimulus_wr.json', 'w') as fh:\n",
    "    json.dump({basename(fn): compute_w_ratio(meshs[parse(fn)]) for fn in IMAGE_FILES}, fh)"
   ]
  },
  {
   "cell_type": "code",
   "execution_count": null,
   "metadata": {},
   "outputs": [],
   "source": [
    "for fn in IMAGE_FILES:\n",
    "    t = parse(fn)\n",
    "    results = meshs[t]\n",
    "    image = cv2.imread(fn)\n",
    "    image = draw(image, results)\n",
    "\n",
    "    w_ratio = compute_w_ratio(results)\n",
    "    p_lefteye, p_righteye, p_left, p_right = get_points(results)\n",
    "\n",
    "    height, width, channels = image.shape\n",
    "    plt.title(f\"{t[0]} ({t[1]}), gemessen: {w_ratio:.4f}\")\n",
    "    plt.imshow(image[:, :, ::-1])\n",
    "    plt.plot(p_lefteye[0]*width, p_lefteye[1]*height, 'x')\n",
    "    plt.plot(p_righteye[0]*width, p_righteye[1]*height, 'x')\n",
    "    plt.plot(p_left[0]*width, p_left[1]*height, 'x')\n",
    "    plt.plot(p_right[0]*width, p_right[1]*height, 'x')\n",
    "    plt.show()"
   ]
  },
  {
   "cell_type": "code",
   "execution_count": null,
   "metadata": {},
   "outputs": [],
   "source": [
    "import pandas as pd\n",
    "df = pd.DataFrame(index=[-100, -66, -33, 0, 33, 66, 100], columns=['low', 'medium', 'high'])\n",
    "\n",
    "for fn in IMAGE_FILES:\n",
    "    t = parse(fn)\n",
    "    results = meshs[t]\n",
    "\n",
    "    w_ratio = compute_w_ratio(results)\n",
    "    df.loc[t[1], t[0]] = w_ratio\n",
    "#     print(t, w_ratio)"
   ]
  },
  {
   "cell_type": "code",
   "execution_count": null,
   "metadata": {},
   "outputs": [],
   "source": [
    "df"
   ]
  },
  {
   "cell_type": "code",
   "execution_count": null,
   "metadata": {},
   "outputs": [],
   "source": [
    "# plt.vlines(df.low, -1, 1, colors='r', label='low')\n",
    "# plt.vlines(df.medium, -1, 1, colors='g', label='medium')\n",
    "# plt.vlines(df.high, -1, 1, colors='b', label='high')\n",
    "plt.plot(df.low, 7*[0], 'o', label='low', alpha=0.5)\n",
    "plt.plot(df.medium, 7*[0], 'o', label='medium', alpha=0.5)\n",
    "plt.plot(df.high, 7*[0], 'o', label='high', alpha=0.5)\n",
    "plt.legend()"
   ]
  },
  {
   "cell_type": "code",
   "execution_count": null,
   "metadata": {},
   "outputs": [],
   "source": []
  }
 ],
 "metadata": {
  "kernelspec": {
   "display_name": "eyetracking_paper2",
   "language": "python",
   "name": "eyetracking_paper2"
  },
  "language_info": {
   "codemirror_mode": {
    "name": "ipython",
    "version": 3
   },
   "file_extension": ".py",
   "mimetype": "text/x-python",
   "name": "python",
   "nbconvert_exporter": "python",
   "pygments_lexer": "ipython3",
   "version": "3.10.4"
  }
 },
 "nbformat": 4,
 "nbformat_minor": 4
}
